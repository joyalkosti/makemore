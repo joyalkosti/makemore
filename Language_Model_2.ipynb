{
  "nbformat": 4,
  "nbformat_minor": 0,
  "metadata": {
    "colab": {
      "provenance": [],
      "authorship_tag": "ABX9TyPdXnQ1yfMvnFUBDXJAVb1o",
      "include_colab_link": true
    },
    "kernelspec": {
      "name": "python3",
      "display_name": "Python 3"
    },
    "language_info": {
      "name": "python"
    }
  },
  "cells": [
    {
      "cell_type": "markdown",
      "metadata": {
        "id": "view-in-github",
        "colab_type": "text"
      },
      "source": [
        "<a href=\"https://colab.research.google.com/github/joyalkosti/makemore/blob/master/Language_Model_2.ipynb\" target=\"_parent\"><img src=\"https://colab.research.google.com/assets/colab-badge.svg\" alt=\"Open In Colab\"/></a>"
      ]
    },
    {
      "cell_type": "code",
      "execution_count": 1,
      "metadata": {
        "id": "KBW1BEVJtE49"
      },
      "outputs": [],
      "source": [
        "import torch\n",
        "import torch.nn.functional as F\n",
        "import matplotlib.pyplot as plt # for making figures\n",
        "%matplotlib inline"
      ]
    },
    {
      "cell_type": "code",
      "source": [
        "words = open('/content/names.txt').read().splitlines()\n",
        "words[:20]\n"
      ],
      "metadata": {
        "colab": {
          "base_uri": "https://localhost:8080/"
        },
        "id": "IqUPYqIytXZy",
        "outputId": "0dc8a1d2-a299-4468-9056-e6f8d10f8b08"
      },
      "execution_count": 62,
      "outputs": [
        {
          "output_type": "execute_result",
          "data": {
            "text/plain": [
              "['emma',\n",
              " 'olivia',\n",
              " 'ava',\n",
              " 'isabella',\n",
              " 'sophia',\n",
              " 'charlotte',\n",
              " 'mia',\n",
              " 'amelia',\n",
              " 'harper',\n",
              " 'evelyn',\n",
              " 'abigail',\n",
              " 'emily',\n",
              " 'elizabeth',\n",
              " 'mila',\n",
              " 'ella',\n",
              " 'avery',\n",
              " 'sofia',\n",
              " 'camila',\n",
              " 'aria',\n",
              " 'scarlett']"
            ]
          },
          "metadata": {},
          "execution_count": 62
        }
      ]
    },
    {
      "cell_type": "code",
      "source": [
        "len(words)"
      ],
      "metadata": {
        "colab": {
          "base_uri": "https://localhost:8080/"
        },
        "id": "7vck5ZREtXdD",
        "outputId": "b2d190ca-565b-4583-9b7c-a7df7ff9922a"
      },
      "execution_count": 3,
      "outputs": [
        {
          "output_type": "execute_result",
          "data": {
            "text/plain": [
              "32033"
            ]
          },
          "metadata": {},
          "execution_count": 3
        }
      ]
    },
    {
      "cell_type": "code",
      "source": [
        "chars=sorted(list(set(''.join(words))))\n",
        "stoi={s:i+1 for i,s in enumerate(chars)}\n",
        "stoi['.']=0\n",
        "itos={i:s for s,i in stoi.items()}\n",
        "print(itos)"
      ],
      "metadata": {
        "colab": {
          "base_uri": "https://localhost:8080/"
        },
        "id": "lhMchyittXf4",
        "outputId": "cb314057-753d-4bc1-cc41-ca8a57ea0772"
      },
      "execution_count": 4,
      "outputs": [
        {
          "output_type": "stream",
          "name": "stdout",
          "text": [
            "{1: 'a', 2: 'b', 3: 'c', 4: 'd', 5: 'e', 6: 'f', 7: 'g', 8: 'h', 9: 'i', 10: 'j', 11: 'k', 12: 'l', 13: 'm', 14: 'n', 15: 'o', 16: 'p', 17: 'q', 18: 'r', 19: 's', 20: 't', 21: 'u', 22: 'v', 23: 'w', 24: 'x', 25: 'y', 26: 'z', 0: '.'}\n"
          ]
        }
      ]
    },
    {
      "cell_type": "markdown",
      "source": [
        "# **Build the Datset for Compiling**"
      ],
      "metadata": {
        "id": "EM86GVUzux1r"
      }
    },
    {
      "cell_type": "code",
      "source": [
        "block_size = 3 # context length: how many characters do we take to predict the next one?\n",
        "x, y = [], []\n",
        "for w in words:\n",
        "  \n",
        "  #print(w)\n",
        "  context = [0] * block_size\n",
        "  for ch in w + '.':\n",
        "    ix = stoi[ch]\n",
        "    x.append(context)\n",
        "    y.append(ix)\n",
        "    # print(''.join(itos[i] for i in context), '--->', itos[ix])\n",
        "    context = context[1:] + [ix] # crop and append\n",
        "  \n",
        "x = torch.tensor(x)\n",
        "y = torch.tensor(y)"
      ],
      "metadata": {
        "id": "1kpUWQdEtXlo"
      },
      "execution_count": 5,
      "outputs": []
    },
    {
      "cell_type": "code",
      "source": [
        "x.shape"
      ],
      "metadata": {
        "colab": {
          "base_uri": "https://localhost:8080/"
        },
        "id": "jtSk2edbtXnQ",
        "outputId": "0a0c23d0-5fae-486c-f757-8320eca69a5e"
      },
      "execution_count": 6,
      "outputs": [
        {
          "output_type": "execute_result",
          "data": {
            "text/plain": [
              "torch.Size([228146, 3])"
            ]
          },
          "metadata": {},
          "execution_count": 6
        }
      ]
    },
    {
      "cell_type": "code",
      "source": [
        "x"
      ],
      "metadata": {
        "colab": {
          "base_uri": "https://localhost:8080/"
        },
        "id": "ZcEgZ9X7tXtn",
        "outputId": "2ff9000c-6eac-48c1-9eb1-8b9925a9f98a"
      },
      "execution_count": 7,
      "outputs": [
        {
          "output_type": "execute_result",
          "data": {
            "text/plain": [
              "tensor([[ 0,  0,  0],\n",
              "        [ 0,  0,  5],\n",
              "        [ 0,  5, 13],\n",
              "        ...,\n",
              "        [26, 26, 25],\n",
              "        [26, 25, 26],\n",
              "        [25, 26, 24]])"
            ]
          },
          "metadata": {},
          "execution_count": 7
        }
      ]
    },
    {
      "cell_type": "code",
      "source": [
        "y"
      ],
      "metadata": {
        "colab": {
          "base_uri": "https://localhost:8080/"
        },
        "id": "uJADnyk_tXyG",
        "outputId": "87f0054a-20c3-4334-e62e-ad3a779ec6cf"
      },
      "execution_count": 8,
      "outputs": [
        {
          "output_type": "execute_result",
          "data": {
            "text/plain": [
              "tensor([ 5, 13, 13,  ..., 26, 24,  0])"
            ]
          },
          "metadata": {},
          "execution_count": 8
        }
      ]
    },
    {
      "cell_type": "markdown",
      "source": [
        "# **Implementing the Embedding Lookup Table **"
      ],
      "metadata": {
        "id": "96s2kwj0Rb4v"
      }
    },
    {
      "cell_type": "code",
      "source": [
        "C = torch.randn((27, 2))\n"
      ],
      "metadata": {
        "id": "JneVt3AttX3s"
      },
      "execution_count": 9,
      "outputs": []
    },
    {
      "cell_type": "code",
      "source": [
        "#Embedding of all the 32 values of indexex(In pytorch its easy you can just write it like this and it will automatically give embedding)\n",
        "emb=C[x]\n",
        "emb"
      ],
      "metadata": {
        "colab": {
          "base_uri": "https://localhost:8080/"
        },
        "id": "pxn-XaQTtX5M",
        "outputId": "a65bd69d-6399-49dd-c66e-8947a945d30a"
      },
      "execution_count": 10,
      "outputs": [
        {
          "output_type": "execute_result",
          "data": {
            "text/plain": [
              "tensor([[[-1.1422,  1.1820],\n",
              "         [-1.1422,  1.1820],\n",
              "         [-1.1422,  1.1820]],\n",
              "\n",
              "        [[-1.1422,  1.1820],\n",
              "         [-1.1422,  1.1820],\n",
              "         [ 0.0517,  0.4132]],\n",
              "\n",
              "        [[-1.1422,  1.1820],\n",
              "         [ 0.0517,  0.4132],\n",
              "         [ 0.7339,  1.4388]],\n",
              "\n",
              "        ...,\n",
              "\n",
              "        [[ 0.8912,  0.2503],\n",
              "         [ 0.8912,  0.2503],\n",
              "         [-0.0432,  0.7726]],\n",
              "\n",
              "        [[ 0.8912,  0.2503],\n",
              "         [-0.0432,  0.7726],\n",
              "         [ 0.8912,  0.2503]],\n",
              "\n",
              "        [[-0.0432,  0.7726],\n",
              "         [ 0.8912,  0.2503],\n",
              "         [-0.4343,  1.6662]]])"
            ]
          },
          "metadata": {},
          "execution_count": 10
        }
      ]
    },
    {
      "cell_type": "code",
      "source": [
        "#Embedding with Original(13,3) and embedding 2 dimensional vector \n",
        "emb.shape"
      ],
      "metadata": {
        "colab": {
          "base_uri": "https://localhost:8080/"
        },
        "id": "dLJvLKMqtX-p",
        "outputId": "61b830a2-2724-4007-906a-f301c047285f"
      },
      "execution_count": 11,
      "outputs": [
        {
          "output_type": "execute_result",
          "data": {
            "text/plain": [
              "torch.Size([228146, 3, 2])"
            ]
          },
          "metadata": {},
          "execution_count": 11
        }
      ]
    },
    {
      "cell_type": "markdown",
      "source": [
        "# **Constructing a Hidden layer**"
      ],
      "metadata": {
        "id": "4-PPKVAxUILD"
      }
    },
    {
      "cell_type": "code",
      "source": [
        "W1 = torch.randn((6, 100)) #here we take 6(it's a multiple of 3*2 from original array and 100 Neurons)\n",
        "b1 = torch.randn(100) #bias Weights\n"
      ],
      "metadata": {
        "id": "TJgVSCektYAP"
      },
      "execution_count": 12,
      "outputs": []
    },
    {
      "cell_type": "code",
      "source": [
        "#Normally we would just take the Embedding(emb) and multiply with weights(W1) and add bias(B1)\n",
        "emb @ W1 +b1 #But the problem is these embedding are all stack up in dimension of input Tensor (32,3,2) \n",
        "#can't multiply (6,100) so we need to concatent\n"
      ],
      "metadata": {
        "colab": {
          "base_uri": "https://localhost:8080/",
          "height": 201
        },
        "id": "vByzED2jU7sF",
        "outputId": "6dc730a8-85ad-47ed-8d16-c636abea1479"
      },
      "execution_count": 84,
      "outputs": [
        {
          "output_type": "error",
          "ename": "RuntimeError",
          "evalue": "ignored",
          "traceback": [
            "\u001b[0;31m---------------------------------------------------------------------------\u001b[0m",
            "\u001b[0;31mRuntimeError\u001b[0m                              Traceback (most recent call last)",
            "\u001b[0;32m<ipython-input-84-070a6ecfa63b>\u001b[0m in \u001b[0;36m<cell line: 2>\u001b[0;34m()\u001b[0m\n\u001b[1;32m      1\u001b[0m \u001b[0;31m#Normally we would just take the Embedding(emb) and multiply with weights(W1) and add bias(B1)\u001b[0m\u001b[0;34m\u001b[0m\u001b[0;34m\u001b[0m\u001b[0m\n\u001b[0;32m----> 2\u001b[0;31m \u001b[0memb\u001b[0m \u001b[0;34m@\u001b[0m \u001b[0mW1\u001b[0m \u001b[0;34m+\u001b[0m\u001b[0mb1\u001b[0m \u001b[0;31m#But the problem is these embedding are all stack up in dimension of input Tensor (32,3,2)\u001b[0m\u001b[0;34m\u001b[0m\u001b[0;34m\u001b[0m\u001b[0m\n\u001b[0m\u001b[1;32m      3\u001b[0m \u001b[0;31m#can't multiply (6,100) so we need to concatent\u001b[0m\u001b[0;34m\u001b[0m\u001b[0;34m\u001b[0m\u001b[0m\n",
            "\u001b[0;31mRuntimeError\u001b[0m: mat1 and mat2 shapes cannot be multiplied (96x2 and 6x100)"
          ]
        }
      ]
    },
    {
      "cell_type": "code",
      "source": [
        "#There is a Function in pytorch Cat for concatenate\n",
        "torch.cat([emb[: ,0, :], emb[: ,1, :], emb[: ,2, :]],1) "
      ],
      "metadata": {
        "colab": {
          "base_uri": "https://localhost:8080/"
        },
        "id": "ULyvzGOUWG3w",
        "outputId": "28f024fd-f6b5-4eb5-f5a2-6f146d05fde6"
      },
      "execution_count": 13,
      "outputs": [
        {
          "output_type": "execute_result",
          "data": {
            "text/plain": [
              "tensor([[-1.1422,  1.1820, -1.1422,  1.1820, -1.1422,  1.1820],\n",
              "        [-1.1422,  1.1820, -1.1422,  1.1820,  0.0517,  0.4132],\n",
              "        [-1.1422,  1.1820,  0.0517,  0.4132,  0.7339,  1.4388],\n",
              "        ...,\n",
              "        [ 0.8912,  0.2503,  0.8912,  0.2503, -0.0432,  0.7726],\n",
              "        [ 0.8912,  0.2503, -0.0432,  0.7726,  0.8912,  0.2503],\n",
              "        [-0.0432,  0.7726,  0.8912,  0.2503, -0.4343,  1.6662]])"
            ]
          },
          "metadata": {},
          "execution_count": 13
        }
      ]
    },
    {
      "cell_type": "code",
      "source": [
        "torch.cat([emb[: ,0, :], emb[: ,1, :], emb[: ,2, :]],1).shape #aswe can see this is what we want\n",
        "#but this is not work on a generalise way (here there are 3 block size like 3 words but what if we want to take 4 or 5 words)"
      ],
      "metadata": {
        "colab": {
          "base_uri": "https://localhost:8080/"
        },
        "id": "Hf-yE7oJWxFW",
        "outputId": "2ea97f10-02f7-403d-9ce0-ebc68126c3f2"
      },
      "execution_count": 14,
      "outputs": [
        {
          "output_type": "execute_result",
          "data": {
            "text/plain": [
              "torch.Size([228146, 6])"
            ]
          },
          "metadata": {},
          "execution_count": 14
        }
      ]
    },
    {
      "cell_type": "code",
      "source": [
        "#there is a fun in pytorch(Unbind)\n",
        "torch.cat(torch.unbind(emb,1),1)"
      ],
      "metadata": {
        "colab": {
          "base_uri": "https://localhost:8080/"
        },
        "id": "tagZ5uXvXUZV",
        "outputId": "5b828dbc-0edc-4590-f080-76375c152be8"
      },
      "execution_count": 15,
      "outputs": [
        {
          "output_type": "execute_result",
          "data": {
            "text/plain": [
              "tensor([[-1.1422,  1.1820, -1.1422,  1.1820, -1.1422,  1.1820],\n",
              "        [-1.1422,  1.1820, -1.1422,  1.1820,  0.0517,  0.4132],\n",
              "        [-1.1422,  1.1820,  0.0517,  0.4132,  0.7339,  1.4388],\n",
              "        ...,\n",
              "        [ 0.8912,  0.2503,  0.8912,  0.2503, -0.0432,  0.7726],\n",
              "        [ 0.8912,  0.2503, -0.0432,  0.7726,  0.8912,  0.2503],\n",
              "        [-0.0432,  0.7726,  0.8912,  0.2503, -0.4343,  1.6662]])"
            ]
          },
          "metadata": {},
          "execution_count": 15
        }
      ]
    },
    {
      "cell_type": "code",
      "source": [
        "torch.cat(torch.unbind(emb,1),1).shape\n",
        "#as it's same what we want"
      ],
      "metadata": {
        "colab": {
          "base_uri": "https://localhost:8080/"
        },
        "id": "Pa0e8v-6XqnS",
        "outputId": "2fcb48c4-949c-4180-e1c5-9d08e4560c06"
      },
      "execution_count": 16,
      "outputs": [
        {
          "output_type": "execute_result",
          "data": {
            "text/plain": [
              "torch.Size([228146, 6])"
            ]
          },
          "metadata": {},
          "execution_count": 16
        }
      ]
    },
    {
      "cell_type": "code",
      "source": [
        "emb.view(228146,6) #as this is also one of fun that can generate directly the views that we want"
      ],
      "metadata": {
        "colab": {
          "base_uri": "https://localhost:8080/"
        },
        "id": "rIpGtCEDYyy8",
        "outputId": "0da1e0ff-5325-4a1a-fff9-7584d54c96fa"
      },
      "execution_count": 17,
      "outputs": [
        {
          "output_type": "execute_result",
          "data": {
            "text/plain": [
              "tensor([[-1.1422,  1.1820, -1.1422,  1.1820, -1.1422,  1.1820],\n",
              "        [-1.1422,  1.1820, -1.1422,  1.1820,  0.0517,  0.4132],\n",
              "        [-1.1422,  1.1820,  0.0517,  0.4132,  0.7339,  1.4388],\n",
              "        ...,\n",
              "        [ 0.8912,  0.2503,  0.8912,  0.2503, -0.0432,  0.7726],\n",
              "        [ 0.8912,  0.2503, -0.0432,  0.7726,  0.8912,  0.2503],\n",
              "        [-0.0432,  0.7726,  0.8912,  0.2503, -0.4343,  1.6662]])"
            ]
          },
          "metadata": {},
          "execution_count": 17
        }
      ]
    },
    {
      "cell_type": "code",
      "source": [
        "emb.view(228146,6)==torch.cat(torch.unbind(emb,1),1)\n",
        "#As you can see it's all same"
      ],
      "metadata": {
        "colab": {
          "base_uri": "https://localhost:8080/"
        },
        "id": "DpmNS7GqZNb0",
        "outputId": "e3bb5ef2-348b-4355-86c5-564c80db8817"
      },
      "execution_count": 18,
      "outputs": [
        {
          "output_type": "execute_result",
          "data": {
            "text/plain": [
              "tensor([[True, True, True, True, True, True],\n",
              "        [True, True, True, True, True, True],\n",
              "        [True, True, True, True, True, True],\n",
              "        ...,\n",
              "        [True, True, True, True, True, True],\n",
              "        [True, True, True, True, True, True],\n",
              "        [True, True, True, True, True, True]])"
            ]
          },
          "metadata": {},
          "execution_count": 18
        }
      ]
    },
    {
      "cell_type": "code",
      "source": [
        "h =emb.view(228146, 6) @ W1 + b1\n",
        "h"
      ],
      "metadata": {
        "colab": {
          "base_uri": "https://localhost:8080/"
        },
        "id": "8eU7jYaHZdQl",
        "outputId": "0307def4-ce18-4f55-f0d5-5933c5c99b8d"
      },
      "execution_count": 19,
      "outputs": [
        {
          "output_type": "execute_result",
          "data": {
            "text/plain": [
              "tensor([[-2.1078, -1.0824,  5.5589,  ..., -3.3473, -2.2802,  0.3305],\n",
              "        [-2.0643, -0.5110,  3.1835,  ...,  0.3122, -0.8597,  2.5237],\n",
              "        [-0.8267, -0.4149, -0.8589,  ..., -1.5809,  3.9724, -0.8786],\n",
              "        ...,\n",
              "        [-1.4303,  1.2107, -0.2794,  ..., -1.9944,  1.1385, -3.2044],\n",
              "        [-2.1515, -0.0352,  0.5794,  ...,  1.2672,  1.0450,  0.3677],\n",
              "        [-0.8863,  0.3675, -0.0678,  ..., -4.5167,  2.3884, -4.2673]])"
            ]
          },
          "metadata": {},
          "execution_count": 19
        }
      ]
    },
    {
      "cell_type": "code",
      "source": [
        "h = torch.tanh(emb.view(-1, 6) @ W1 + b1)\n",
        "h\n",
        "#tanh because the number will be between -1 to 1"
      ],
      "metadata": {
        "colab": {
          "base_uri": "https://localhost:8080/"
        },
        "id": "etKbJhiJtYF_",
        "outputId": "0c3be245-8413-443d-c7fe-e09d7747e56a"
      },
      "execution_count": 20,
      "outputs": [
        {
          "output_type": "execute_result",
          "data": {
            "text/plain": [
              "tensor([[-0.9709, -0.7941,  1.0000,  ..., -0.9975, -0.9793,  0.3190],\n",
              "        [-0.9683, -0.4707,  0.9966,  ...,  0.3025, -0.6961,  0.9872],\n",
              "        [-0.6787, -0.3926, -0.6957,  ..., -0.9187,  0.9993, -0.7057],\n",
              "        ...,\n",
              "        [-0.8917,  0.8369, -0.2724,  ..., -0.9636,  0.8139, -0.9967],\n",
              "        [-0.9733, -0.0352,  0.5223,  ...,  0.8530,  0.7798,  0.3520],\n",
              "        [-0.7096,  0.3518, -0.0677,  ..., -0.9998,  0.9833, -0.9996]])"
            ]
          },
          "metadata": {},
          "execution_count": 20
        }
      ]
    },
    {
      "cell_type": "code",
      "source": [
        "h.shape"
      ],
      "metadata": {
        "colab": {
          "base_uri": "https://localhost:8080/"
        },
        "id": "HYXYJvHQtYHo",
        "outputId": "479464f3-6a5c-4757-d380-05ea4b811da7"
      },
      "execution_count": 21,
      "outputs": [
        {
          "output_type": "execute_result",
          "data": {
            "text/plain": [
              "torch.Size([228146, 100])"
            ]
          },
          "metadata": {},
          "execution_count": 21
        }
      ]
    },
    {
      "cell_type": "code",
      "source": [
        "b1.shape \n",
        "# as we can it's have 100 neurons so now it will add like\n",
        "#32 100\n",
        "1#(create fake), 100 "
      ],
      "metadata": {
        "colab": {
          "base_uri": "https://localhost:8080/"
        },
        "id": "MAWeCQb1tYJw",
        "outputId": "308d30c4-e99f-4233-ac4e-c501588d4897"
      },
      "execution_count": 22,
      "outputs": [
        {
          "output_type": "execute_result",
          "data": {
            "text/plain": [
              "1"
            ]
          },
          "metadata": {},
          "execution_count": 22
        }
      ]
    },
    {
      "cell_type": "markdown",
      "source": [
        "# **Now Create the Final(Output layer)**"
      ],
      "metadata": {
        "id": "dxzzVnm4a7my"
      }
    },
    {
      "cell_type": "code",
      "source": [
        "W2 = torch.randn((100, 27))# 100 Neurons and 27  New Characters \n",
        "b2 = torch.randn(27) "
      ],
      "metadata": {
        "id": "bFr-8fCvtYK8"
      },
      "execution_count": 23,
      "outputs": []
    },
    {
      "cell_type": "code",
      "source": [
        "logits = h @ W2 + b2 #Logits are output of Neural Network\n",
        "logits"
      ],
      "metadata": {
        "colab": {
          "base_uri": "https://localhost:8080/"
        },
        "id": "iMK6I4w8tYTj",
        "outputId": "db86cbaf-02a9-4d6d-ae29-c5514dce6c7c"
      },
      "execution_count": 24,
      "outputs": [
        {
          "output_type": "execute_result",
          "data": {
            "text/plain": [
              "tensor([[ -3.0623,   4.0607,   5.8062,  ...,   8.6667,  10.0632,  -8.6977],\n",
              "        [  1.1618,   5.0217,  13.3810,  ...,   5.8972,   5.8010,  -5.4413],\n",
              "        [ -4.3378,  13.4759,  -8.2860,  ...,  -1.7156,  12.6360,  -4.5549],\n",
              "        ...,\n",
              "        [  1.1232,   9.1224, -20.2438,  ...,  -2.3360,   4.7207,  -6.3676],\n",
              "        [  9.5877,   1.9863,  -9.7029,  ...,  -0.2919,   0.4160,  -8.0172],\n",
              "        [ -4.2795,  10.6533, -17.7273,  ...,   1.1356,  11.5635,  -1.0045]])"
            ]
          },
          "metadata": {},
          "execution_count": 24
        }
      ]
    },
    {
      "cell_type": "code",
      "source": [
        "logits.shape"
      ],
      "metadata": {
        "colab": {
          "base_uri": "https://localhost:8080/"
        },
        "id": "LmNFaenXtYWr",
        "outputId": "d767352d-7f5d-47b3-aa1d-59ca442baaa7"
      },
      "execution_count": 25,
      "outputs": [
        {
          "output_type": "execute_result",
          "data": {
            "text/plain": [
              "torch.Size([228146, 27])"
            ]
          },
          "metadata": {},
          "execution_count": 25
        }
      ]
    },
    {
      "cell_type": "markdown",
      "source": [
        "# **Implementing negative Likely_hood**"
      ],
      "metadata": {
        "id": "zS9Ud5K7byiJ"
      }
    },
    {
      "cell_type": "code",
      "source": [
        "#Now we take this logits and make a fake account and we want to Normalize in to Probability\n",
        "Counts =logits.exp()"
      ],
      "metadata": {
        "id": "0zQ9cGc5tYbr"
      },
      "execution_count": 26,
      "outputs": []
    },
    {
      "cell_type": "code",
      "source": [
        "#Now Probability\n",
        "prob = Counts / Counts.sum(1, keepdims=True)\n"
      ],
      "metadata": {
        "id": "CZRMAr4Ebons"
      },
      "execution_count": 27,
      "outputs": []
    },
    {
      "cell_type": "code",
      "source": [
        "prob.shape\n"
      ],
      "metadata": {
        "colab": {
          "base_uri": "https://localhost:8080/"
        },
        "id": "OS3NwOhebosB",
        "outputId": "2566a744-e5dc-4c93-8d53-e7a53544c54a"
      },
      "execution_count": 28,
      "outputs": [
        {
          "output_type": "execute_result",
          "data": {
            "text/plain": [
              "torch.Size([228146, 27])"
            ]
          },
          "metadata": {},
          "execution_count": 28
        }
      ]
    },
    {
      "cell_type": "code",
      "source": [
        "prob"
      ],
      "metadata": {
        "colab": {
          "base_uri": "https://localhost:8080/"
        },
        "id": "38Uz2ILHcgCM",
        "outputId": "158484e2-cfca-40c9-c1d5-5a7c2335859c"
      },
      "execution_count": 29,
      "outputs": [
        {
          "output_type": "execute_result",
          "data": {
            "text/plain": [
              "tensor([[4.7707e-09, 5.9159e-06, 3.3894e-05,  ..., 5.9213e-04, 2.3928e-03,\n",
              "         1.7027e-11],\n",
              "        [3.7589e-08, 1.7840e-06, 7.6177e-03,  ..., 4.2821e-06, 3.8891e-06,\n",
              "         5.0979e-11],\n",
              "        [1.2587e-08, 6.8601e-01, 2.4280e-10,  ..., 1.7328e-07, 2.9618e-01,\n",
              "         1.0131e-08],\n",
              "        ...,\n",
              "        [4.8849e-13, 1.4551e-09, 2.5661e-22,  ..., 1.5365e-14, 1.7833e-11,\n",
              "         2.7268e-16],\n",
              "        [8.2638e-05, 4.1299e-08, 3.4625e-13,  ..., 4.2317e-09, 8.5899e-09,\n",
              "         1.8684e-12],\n",
              "        [3.9612e-09, 1.2107e-02, 5.7215e-15,  ..., 8.9036e-07, 3.0085e-02,\n",
              "         1.0474e-07]])"
            ]
          },
          "metadata": {},
          "execution_count": 29
        }
      ]
    },
    {
      "cell_type": "code",
      "source": [
        "prob[0].sum() #As we can see every row of prob sums to 1(It,s Normalise)"
      ],
      "metadata": {
        "colab": {
          "base_uri": "https://localhost:8080/"
        },
        "id": "tLnhRxA-boxT",
        "outputId": "4d3c96c6-6ff3-48a4-bec8-fea2c6009843"
      },
      "execution_count": 30,
      "outputs": [
        {
          "output_type": "execute_result",
          "data": {
            "text/plain": [
              "tensor(1.0000)"
            ]
          },
          "metadata": {},
          "execution_count": 30
        }
      ]
    },
    {
      "cell_type": "code",
      "source": [
        "loss = -prob[torch.arange(228146), y].log().mean()\n",
        "loss \n",
        "#The final Predection of Y last character"
      ],
      "metadata": {
        "colab": {
          "base_uri": "https://localhost:8080/"
        },
        "id": "1SQkPYUwbozD",
        "outputId": "3f41485b-bbac-4718-c0ec-49ef1b083a9f"
      },
      "execution_count": 32,
      "outputs": [
        {
          "output_type": "execute_result",
          "data": {
            "text/plain": [
              "tensor(15.0705)"
            ]
          },
          "metadata": {},
          "execution_count": 32
        }
      ]
    },
    {
      "cell_type": "markdown",
      "source": [
        "# **Summary for Whole thing in small and Understanbdle**"
      ],
      "metadata": {
        "id": "Nbg39MjDdupI"
      }
    },
    {
      "cell_type": "code",
      "source": [
        "x.shape, y.shape # dataset\n"
      ],
      "metadata": {
        "colab": {
          "base_uri": "https://localhost:8080/"
        },
        "id": "TWyiMtixbo2D",
        "outputId": "c7c52c90-3330-4cda-acf3-eb481a0303be"
      },
      "execution_count": 33,
      "outputs": [
        {
          "output_type": "execute_result",
          "data": {
            "text/plain": [
              "(torch.Size([228146, 3]), torch.Size([228146]))"
            ]
          },
          "metadata": {},
          "execution_count": 33
        }
      ]
    },
    {
      "cell_type": "code",
      "source": [
        "g = torch.Generator().manual_seed(2147483647) # for reproducibility\n",
        "C = torch.randn((27, 2), generator=g)\n",
        "W1 = torch.randn((6, 100), generator=g)\n",
        "b1 = torch.randn(100, generator=g)\n",
        "W2 = torch.randn((100, 27), generator=g)\n",
        "b2 = torch.randn(27, generator=g)\n",
        "parameters = [C, W1, b1, W2, b2]"
      ],
      "metadata": {
        "id": "_TMAuQWLbo7e"
      },
      "execution_count": 34,
      "outputs": []
    },
    {
      "cell_type": "code",
      "source": [
        "sum(p.nelement() for p in parameters) # number of parameters in total\n"
      ],
      "metadata": {
        "colab": {
          "base_uri": "https://localhost:8080/"
        },
        "id": "Bv-wk3WDbo_C",
        "outputId": "be741ddc-0f6c-4cc2-ac56-9f8d844c16fb"
      },
      "execution_count": 35,
      "outputs": [
        {
          "output_type": "execute_result",
          "data": {
            "text/plain": [
              "3481"
            ]
          },
          "metadata": {},
          "execution_count": 35
        }
      ]
    },
    {
      "cell_type": "code",
      "source": [
        "emb = C[x] # (32, 3, 2)\n",
        "h = torch.tanh(emb.view(-1, 6) @ W1 + b1)\n",
        "logits = h @ W2 + b2 # (32, 27)\n",
        "counts=logits.exp()\n",
        "prob = Counts / Counts.sum(1, keepdims=True)\n",
        "loss = -prob[torch.arange(228146), y].log().mean()\n",
        "loss \n"
      ],
      "metadata": {
        "colab": {
          "base_uri": "https://localhost:8080/"
        },
        "id": "H1iLxAmSbpCv",
        "outputId": "913e164a-1574-4c33-c142-c4c02e935385"
      },
      "execution_count": 36,
      "outputs": [
        {
          "output_type": "execute_result",
          "data": {
            "text/plain": [
              "tensor(15.0705)"
            ]
          },
          "metadata": {},
          "execution_count": 36
        }
      ]
    },
    {
      "cell_type": "code",
      "source": [
        "emb = C[x] # (32, 3, 2)\n",
        "h = torch.tanh(emb.view(-1, 6) @ W1 + b1)\n",
        "logits = h @ W2 + b2 # (32, 27)\n",
        "# counts=logits.exp()\n",
        "# prob = Counts / Counts.sum(1, keepdims=True)\n",
        "# loss = -prob[torch.arange(32), y].log().mean()\n",
        "# loss \n",
        "F.cross_entropy(logits,y) #We can also use Cross_Entropy \n",
        "loss"
      ],
      "metadata": {
        "colab": {
          "base_uri": "https://localhost:8080/"
        },
        "id": "0juMDrXDbpEk",
        "outputId": "42ef38c1-c966-4341-8d9c-51a7174a63e5"
      },
      "execution_count": 37,
      "outputs": [
        {
          "output_type": "execute_result",
          "data": {
            "text/plain": [
              "tensor(15.0705)"
            ]
          },
          "metadata": {},
          "execution_count": 37
        }
      ]
    },
    {
      "cell_type": "markdown",
      "source": [
        "# **Implementing the Training Loop , Overfitting one batch**"
      ],
      "metadata": {
        "id": "nwm6GWLDiF00"
      }
    },
    {
      "cell_type": "code",
      "source": [
        "for p in parameters:\n",
        "  p.requires_grad = True\n"
      ],
      "metadata": {
        "id": "oUXC1FalbpHS"
      },
      "execution_count": 38,
      "outputs": []
    },
    {
      "cell_type": "code",
      "source": [
        "lre = torch.linspace(-3, 0, 1000)\n",
        "lrs = 10**lre\n",
        "lrs"
      ],
      "metadata": {
        "id": "UhfcQ9xdbpM0",
        "colab": {
          "base_uri": "https://localhost:8080/"
        },
        "outputId": "ecf45175-c8f2-405e-cc47-48dd7206df8d"
      },
      "execution_count": 39,
      "outputs": [
        {
          "output_type": "execute_result",
          "data": {
            "text/plain": [
              "tensor([0.0010, 0.0010, 0.0010, 0.0010, 0.0010, 0.0010, 0.0010, 0.0010, 0.0011,\n",
              "        0.0011, 0.0011, 0.0011, 0.0011, 0.0011, 0.0011, 0.0011, 0.0011, 0.0011,\n",
              "        0.0011, 0.0011, 0.0011, 0.0012, 0.0012, 0.0012, 0.0012, 0.0012, 0.0012,\n",
              "        0.0012, 0.0012, 0.0012, 0.0012, 0.0012, 0.0012, 0.0013, 0.0013, 0.0013,\n",
              "        0.0013, 0.0013, 0.0013, 0.0013, 0.0013, 0.0013, 0.0013, 0.0013, 0.0014,\n",
              "        0.0014, 0.0014, 0.0014, 0.0014, 0.0014, 0.0014, 0.0014, 0.0014, 0.0014,\n",
              "        0.0015, 0.0015, 0.0015, 0.0015, 0.0015, 0.0015, 0.0015, 0.0015, 0.0015,\n",
              "        0.0015, 0.0016, 0.0016, 0.0016, 0.0016, 0.0016, 0.0016, 0.0016, 0.0016,\n",
              "        0.0016, 0.0017, 0.0017, 0.0017, 0.0017, 0.0017, 0.0017, 0.0017, 0.0017,\n",
              "        0.0018, 0.0018, 0.0018, 0.0018, 0.0018, 0.0018, 0.0018, 0.0018, 0.0019,\n",
              "        0.0019, 0.0019, 0.0019, 0.0019, 0.0019, 0.0019, 0.0019, 0.0020, 0.0020,\n",
              "        0.0020, 0.0020, 0.0020, 0.0020, 0.0020, 0.0021, 0.0021, 0.0021, 0.0021,\n",
              "        0.0021, 0.0021, 0.0021, 0.0022, 0.0022, 0.0022, 0.0022, 0.0022, 0.0022,\n",
              "        0.0022, 0.0023, 0.0023, 0.0023, 0.0023, 0.0023, 0.0023, 0.0024, 0.0024,\n",
              "        0.0024, 0.0024, 0.0024, 0.0024, 0.0025, 0.0025, 0.0025, 0.0025, 0.0025,\n",
              "        0.0025, 0.0026, 0.0026, 0.0026, 0.0026, 0.0026, 0.0027, 0.0027, 0.0027,\n",
              "        0.0027, 0.0027, 0.0027, 0.0028, 0.0028, 0.0028, 0.0028, 0.0028, 0.0029,\n",
              "        0.0029, 0.0029, 0.0029, 0.0029, 0.0030, 0.0030, 0.0030, 0.0030, 0.0030,\n",
              "        0.0031, 0.0031, 0.0031, 0.0031, 0.0032, 0.0032, 0.0032, 0.0032, 0.0032,\n",
              "        0.0033, 0.0033, 0.0033, 0.0033, 0.0034, 0.0034, 0.0034, 0.0034, 0.0034,\n",
              "        0.0035, 0.0035, 0.0035, 0.0035, 0.0036, 0.0036, 0.0036, 0.0036, 0.0037,\n",
              "        0.0037, 0.0037, 0.0037, 0.0038, 0.0038, 0.0038, 0.0039, 0.0039, 0.0039,\n",
              "        0.0039, 0.0040, 0.0040, 0.0040, 0.0040, 0.0041, 0.0041, 0.0041, 0.0042,\n",
              "        0.0042, 0.0042, 0.0042, 0.0043, 0.0043, 0.0043, 0.0044, 0.0044, 0.0044,\n",
              "        0.0045, 0.0045, 0.0045, 0.0045, 0.0046, 0.0046, 0.0046, 0.0047, 0.0047,\n",
              "        0.0047, 0.0048, 0.0048, 0.0048, 0.0049, 0.0049, 0.0049, 0.0050, 0.0050,\n",
              "        0.0050, 0.0051, 0.0051, 0.0051, 0.0052, 0.0052, 0.0053, 0.0053, 0.0053,\n",
              "        0.0054, 0.0054, 0.0054, 0.0055, 0.0055, 0.0056, 0.0056, 0.0056, 0.0057,\n",
              "        0.0057, 0.0058, 0.0058, 0.0058, 0.0059, 0.0059, 0.0060, 0.0060, 0.0060,\n",
              "        0.0061, 0.0061, 0.0062, 0.0062, 0.0062, 0.0063, 0.0063, 0.0064, 0.0064,\n",
              "        0.0065, 0.0065, 0.0066, 0.0066, 0.0067, 0.0067, 0.0067, 0.0068, 0.0068,\n",
              "        0.0069, 0.0069, 0.0070, 0.0070, 0.0071, 0.0071, 0.0072, 0.0072, 0.0073,\n",
              "        0.0073, 0.0074, 0.0074, 0.0075, 0.0075, 0.0076, 0.0076, 0.0077, 0.0077,\n",
              "        0.0078, 0.0079, 0.0079, 0.0080, 0.0080, 0.0081, 0.0081, 0.0082, 0.0082,\n",
              "        0.0083, 0.0084, 0.0084, 0.0085, 0.0085, 0.0086, 0.0086, 0.0087, 0.0088,\n",
              "        0.0088, 0.0089, 0.0090, 0.0090, 0.0091, 0.0091, 0.0092, 0.0093, 0.0093,\n",
              "        0.0094, 0.0095, 0.0095, 0.0096, 0.0097, 0.0097, 0.0098, 0.0099, 0.0099,\n",
              "        0.0100, 0.0101, 0.0101, 0.0102, 0.0103, 0.0104, 0.0104, 0.0105, 0.0106,\n",
              "        0.0106, 0.0107, 0.0108, 0.0109, 0.0109, 0.0110, 0.0111, 0.0112, 0.0112,\n",
              "        0.0113, 0.0114, 0.0115, 0.0116, 0.0116, 0.0117, 0.0118, 0.0119, 0.0120,\n",
              "        0.0121, 0.0121, 0.0122, 0.0123, 0.0124, 0.0125, 0.0126, 0.0127, 0.0127,\n",
              "        0.0128, 0.0129, 0.0130, 0.0131, 0.0132, 0.0133, 0.0134, 0.0135, 0.0136,\n",
              "        0.0137, 0.0137, 0.0138, 0.0139, 0.0140, 0.0141, 0.0142, 0.0143, 0.0144,\n",
              "        0.0145, 0.0146, 0.0147, 0.0148, 0.0149, 0.0150, 0.0151, 0.0152, 0.0154,\n",
              "        0.0155, 0.0156, 0.0157, 0.0158, 0.0159, 0.0160, 0.0161, 0.0162, 0.0163,\n",
              "        0.0165, 0.0166, 0.0167, 0.0168, 0.0169, 0.0170, 0.0171, 0.0173, 0.0174,\n",
              "        0.0175, 0.0176, 0.0178, 0.0179, 0.0180, 0.0181, 0.0182, 0.0184, 0.0185,\n",
              "        0.0186, 0.0188, 0.0189, 0.0190, 0.0192, 0.0193, 0.0194, 0.0196, 0.0197,\n",
              "        0.0198, 0.0200, 0.0201, 0.0202, 0.0204, 0.0205, 0.0207, 0.0208, 0.0210,\n",
              "        0.0211, 0.0212, 0.0214, 0.0215, 0.0217, 0.0218, 0.0220, 0.0221, 0.0223,\n",
              "        0.0225, 0.0226, 0.0228, 0.0229, 0.0231, 0.0232, 0.0234, 0.0236, 0.0237,\n",
              "        0.0239, 0.0241, 0.0242, 0.0244, 0.0246, 0.0247, 0.0249, 0.0251, 0.0253,\n",
              "        0.0254, 0.0256, 0.0258, 0.0260, 0.0261, 0.0263, 0.0265, 0.0267, 0.0269,\n",
              "        0.0271, 0.0273, 0.0274, 0.0276, 0.0278, 0.0280, 0.0282, 0.0284, 0.0286,\n",
              "        0.0288, 0.0290, 0.0292, 0.0294, 0.0296, 0.0298, 0.0300, 0.0302, 0.0304,\n",
              "        0.0307, 0.0309, 0.0311, 0.0313, 0.0315, 0.0317, 0.0320, 0.0322, 0.0324,\n",
              "        0.0326, 0.0328, 0.0331, 0.0333, 0.0335, 0.0338, 0.0340, 0.0342, 0.0345,\n",
              "        0.0347, 0.0350, 0.0352, 0.0354, 0.0357, 0.0359, 0.0362, 0.0364, 0.0367,\n",
              "        0.0369, 0.0372, 0.0375, 0.0377, 0.0380, 0.0382, 0.0385, 0.0388, 0.0390,\n",
              "        0.0393, 0.0396, 0.0399, 0.0401, 0.0404, 0.0407, 0.0410, 0.0413, 0.0416,\n",
              "        0.0418, 0.0421, 0.0424, 0.0427, 0.0430, 0.0433, 0.0436, 0.0439, 0.0442,\n",
              "        0.0445, 0.0448, 0.0451, 0.0455, 0.0458, 0.0461, 0.0464, 0.0467, 0.0471,\n",
              "        0.0474, 0.0477, 0.0480, 0.0484, 0.0487, 0.0491, 0.0494, 0.0497, 0.0501,\n",
              "        0.0504, 0.0508, 0.0511, 0.0515, 0.0518, 0.0522, 0.0526, 0.0529, 0.0533,\n",
              "        0.0537, 0.0540, 0.0544, 0.0548, 0.0552, 0.0556, 0.0559, 0.0563, 0.0567,\n",
              "        0.0571, 0.0575, 0.0579, 0.0583, 0.0587, 0.0591, 0.0595, 0.0599, 0.0604,\n",
              "        0.0608, 0.0612, 0.0616, 0.0621, 0.0625, 0.0629, 0.0634, 0.0638, 0.0642,\n",
              "        0.0647, 0.0651, 0.0656, 0.0660, 0.0665, 0.0670, 0.0674, 0.0679, 0.0684,\n",
              "        0.0688, 0.0693, 0.0698, 0.0703, 0.0708, 0.0713, 0.0718, 0.0723, 0.0728,\n",
              "        0.0733, 0.0738, 0.0743, 0.0748, 0.0753, 0.0758, 0.0764, 0.0769, 0.0774,\n",
              "        0.0780, 0.0785, 0.0790, 0.0796, 0.0802, 0.0807, 0.0813, 0.0818, 0.0824,\n",
              "        0.0830, 0.0835, 0.0841, 0.0847, 0.0853, 0.0859, 0.0865, 0.0871, 0.0877,\n",
              "        0.0883, 0.0889, 0.0895, 0.0901, 0.0908, 0.0914, 0.0920, 0.0927, 0.0933,\n",
              "        0.0940, 0.0946, 0.0953, 0.0959, 0.0966, 0.0973, 0.0979, 0.0986, 0.0993,\n",
              "        0.1000, 0.1007, 0.1014, 0.1021, 0.1028, 0.1035, 0.1042, 0.1050, 0.1057,\n",
              "        0.1064, 0.1072, 0.1079, 0.1087, 0.1094, 0.1102, 0.1109, 0.1117, 0.1125,\n",
              "        0.1133, 0.1140, 0.1148, 0.1156, 0.1164, 0.1172, 0.1181, 0.1189, 0.1197,\n",
              "        0.1205, 0.1214, 0.1222, 0.1231, 0.1239, 0.1248, 0.1256, 0.1265, 0.1274,\n",
              "        0.1283, 0.1292, 0.1301, 0.1310, 0.1319, 0.1328, 0.1337, 0.1346, 0.1356,\n",
              "        0.1365, 0.1374, 0.1384, 0.1394, 0.1403, 0.1413, 0.1423, 0.1433, 0.1443,\n",
              "        0.1453, 0.1463, 0.1473, 0.1483, 0.1493, 0.1504, 0.1514, 0.1525, 0.1535,\n",
              "        0.1546, 0.1557, 0.1567, 0.1578, 0.1589, 0.1600, 0.1611, 0.1623, 0.1634,\n",
              "        0.1645, 0.1657, 0.1668, 0.1680, 0.1691, 0.1703, 0.1715, 0.1727, 0.1739,\n",
              "        0.1751, 0.1763, 0.1775, 0.1788, 0.1800, 0.1812, 0.1825, 0.1838, 0.1850,\n",
              "        0.1863, 0.1876, 0.1889, 0.1902, 0.1916, 0.1929, 0.1942, 0.1956, 0.1969,\n",
              "        0.1983, 0.1997, 0.2010, 0.2024, 0.2038, 0.2053, 0.2067, 0.2081, 0.2096,\n",
              "        0.2110, 0.2125, 0.2140, 0.2154, 0.2169, 0.2184, 0.2200, 0.2215, 0.2230,\n",
              "        0.2246, 0.2261, 0.2277, 0.2293, 0.2309, 0.2325, 0.2341, 0.2357, 0.2373,\n",
              "        0.2390, 0.2406, 0.2423, 0.2440, 0.2457, 0.2474, 0.2491, 0.2508, 0.2526,\n",
              "        0.2543, 0.2561, 0.2579, 0.2597, 0.2615, 0.2633, 0.2651, 0.2669, 0.2688,\n",
              "        0.2707, 0.2725, 0.2744, 0.2763, 0.2783, 0.2802, 0.2821, 0.2841, 0.2861,\n",
              "        0.2880, 0.2900, 0.2921, 0.2941, 0.2961, 0.2982, 0.3002, 0.3023, 0.3044,\n",
              "        0.3065, 0.3087, 0.3108, 0.3130, 0.3151, 0.3173, 0.3195, 0.3217, 0.3240,\n",
              "        0.3262, 0.3285, 0.3308, 0.3331, 0.3354, 0.3377, 0.3400, 0.3424, 0.3448,\n",
              "        0.3472, 0.3496, 0.3520, 0.3544, 0.3569, 0.3594, 0.3619, 0.3644, 0.3669,\n",
              "        0.3695, 0.3720, 0.3746, 0.3772, 0.3798, 0.3825, 0.3851, 0.3878, 0.3905,\n",
              "        0.3932, 0.3959, 0.3987, 0.4014, 0.4042, 0.4070, 0.4098, 0.4127, 0.4155,\n",
              "        0.4184, 0.4213, 0.4243, 0.4272, 0.4302, 0.4331, 0.4362, 0.4392, 0.4422,\n",
              "        0.4453, 0.4484, 0.4515, 0.4546, 0.4578, 0.4610, 0.4642, 0.4674, 0.4706,\n",
              "        0.4739, 0.4772, 0.4805, 0.4838, 0.4872, 0.4906, 0.4940, 0.4974, 0.5008,\n",
              "        0.5043, 0.5078, 0.5113, 0.5149, 0.5185, 0.5221, 0.5257, 0.5293, 0.5330,\n",
              "        0.5367, 0.5404, 0.5442, 0.5479, 0.5517, 0.5556, 0.5594, 0.5633, 0.5672,\n",
              "        0.5712, 0.5751, 0.5791, 0.5831, 0.5872, 0.5913, 0.5954, 0.5995, 0.6036,\n",
              "        0.6078, 0.6120, 0.6163, 0.6206, 0.6249, 0.6292, 0.6336, 0.6380, 0.6424,\n",
              "        0.6469, 0.6513, 0.6559, 0.6604, 0.6650, 0.6696, 0.6743, 0.6789, 0.6837,\n",
              "        0.6884, 0.6932, 0.6980, 0.7028, 0.7077, 0.7126, 0.7176, 0.7225, 0.7275,\n",
              "        0.7326, 0.7377, 0.7428, 0.7480, 0.7531, 0.7584, 0.7636, 0.7689, 0.7743,\n",
              "        0.7796, 0.7850, 0.7905, 0.7960, 0.8015, 0.8071, 0.8127, 0.8183, 0.8240,\n",
              "        0.8297, 0.8355, 0.8412, 0.8471, 0.8530, 0.8589, 0.8648, 0.8708, 0.8769,\n",
              "        0.8830, 0.8891, 0.8953, 0.9015, 0.9077, 0.9140, 0.9204, 0.9268, 0.9332,\n",
              "        0.9397, 0.9462, 0.9528, 0.9594, 0.9660, 0.9727, 0.9795, 0.9863, 0.9931,\n",
              "        1.0000])"
            ]
          },
          "metadata": {},
          "execution_count": 39
        }
      ]
    },
    {
      "cell_type": "code",
      "source": [
        "for _ in range(10):\n",
        "  # forward pass\n",
        "    emb = C[x] # (32, 3, 10)\n",
        "    h = torch.tanh(emb.view(-1, 6) @ W1 + b1) # (32, 200)\n",
        "    logits = h @ W2 + b2 # (32, 27)\n",
        "    loss = F.cross_entropy(logits, y)\n",
        "    print(loss.item())\n",
        "    \n",
        "    # backward pass\n",
        "    for p in parameters:\n",
        "      p.grad = None\n",
        "    loss.backward()\n",
        "\n",
        "    # update\n",
        "    #lr = lrs[i]\n",
        "    # lr = 0.1 if i < 100000 else 0.01\n",
        "    for p in parameters:\n",
        "      p.data += -0.1 * p.grad"
      ],
      "metadata": {
        "colab": {
          "base_uri": "https://localhost:8080/"
        },
        "id": "8zes8wcGnUlC",
        "outputId": "44e00448-1251-43c8-8157-794f0d8a1a1f"
      },
      "execution_count": 40,
      "outputs": [
        {
          "output_type": "stream",
          "name": "stdout",
          "text": [
            "19.505226135253906\n",
            "17.08449363708496\n",
            "15.776531219482422\n",
            "14.833340644836426\n",
            "14.002603530883789\n",
            "13.253260612487793\n",
            "12.57991886138916\n",
            "11.983101844787598\n",
            "11.47049331665039\n",
            "11.051856994628906\n"
          ]
        }
      ]
    },
    {
      "cell_type": "markdown",
      "source": [
        "# **Training the Full Dataset, MiniBatch**"
      ],
      "metadata": {
        "id": "rBcwv5vAnHEV"
      }
    },
    {
      "cell_type": "code",
      "source": [
        "for _ in range(100):\n",
        "   # minibatch construct\n",
        "    ix = torch.randint(0, x.shape[0], (32,))\n",
        "  # forward pass\n",
        "    emb = C[x[ix]] # (32, 3, 10)\n",
        "    h = torch.tanh(emb.view(-1, 6) @ W1 + b1) # (32, 200)\n",
        "    logits = h @ W2 + b2 # (32, 27)\n",
        "    loss = F.cross_entropy(logits, y[ix])\n",
        "    print(loss.item())\n",
        "    \n",
        "    # backward pass\n",
        "    for p in parameters:\n",
        "      p.grad = None\n",
        "    loss.backward()\n",
        "\n",
        "    # update\n",
        "    #lr = lrs[i]\n",
        "    # lr = 0.1 if i < 100000 else 0.01\n",
        "    for p in parameters:\n",
        "      p.data += -0.1 * p.grad"
      ],
      "metadata": {
        "colab": {
          "base_uri": "https://localhost:8080/"
        },
        "id": "rXIK5NPinT6K",
        "outputId": "2401612b-96c7-478b-c582-f349158f25de"
      },
      "execution_count": 41,
      "outputs": [
        {
          "output_type": "stream",
          "name": "stdout",
          "text": [
            "10.402192115783691\n",
            "11.291410446166992\n",
            "10.202068328857422\n",
            "10.998786926269531\n",
            "9.744996070861816\n",
            "9.362805366516113\n",
            "11.226117134094238\n",
            "7.696069717407227\n",
            "9.009435653686523\n",
            "9.20141887664795\n",
            "9.125584602355957\n",
            "9.019814491271973\n",
            "7.08469820022583\n",
            "8.397106170654297\n",
            "8.297504425048828\n",
            "8.225672721862793\n",
            "7.604303359985352\n",
            "7.681474685668945\n",
            "7.909390449523926\n",
            "7.212578773498535\n",
            "5.081681251525879\n",
            "5.504915237426758\n",
            "8.038368225097656\n",
            "6.426581859588623\n",
            "5.064785957336426\n",
            "7.6576642990112305\n",
            "5.741558074951172\n",
            "6.834810733795166\n",
            "5.539593696594238\n",
            "5.668354034423828\n",
            "5.534721851348877\n",
            "5.241880893707275\n",
            "5.317656993865967\n",
            "6.034210205078125\n",
            "5.404567718505859\n",
            "4.5829620361328125\n",
            "5.080471515655518\n",
            "5.129422187805176\n",
            "5.103428840637207\n",
            "6.600259304046631\n",
            "4.65148401260376\n",
            "5.443518161773682\n",
            "5.768989086151123\n",
            "5.388398170471191\n",
            "5.215490818023682\n",
            "6.2704691886901855\n",
            "4.171775817871094\n",
            "5.975149631500244\n",
            "4.561678886413574\n",
            "4.543544292449951\n",
            "4.897446632385254\n",
            "4.973925590515137\n",
            "4.714047908782959\n",
            "6.219781398773193\n",
            "4.7671051025390625\n",
            "4.61721134185791\n",
            "5.474413871765137\n",
            "3.184922218322754\n",
            "3.614220380783081\n",
            "4.17503023147583\n",
            "4.6050214767456055\n",
            "3.988417863845825\n",
            "4.728959560394287\n",
            "4.501399040222168\n",
            "4.387581825256348\n",
            "4.245095729827881\n",
            "4.054874897003174\n",
            "3.487072467803955\n",
            "4.4069929122924805\n",
            "3.683712959289551\n",
            "3.7153241634368896\n",
            "4.074546813964844\n",
            "5.085111618041992\n",
            "5.022317886352539\n",
            "3.3730826377868652\n",
            "4.473116397857666\n",
            "4.048547744750977\n",
            "4.643246173858643\n",
            "3.9559237957000732\n",
            "4.5600056648254395\n",
            "3.2586545944213867\n",
            "4.101937770843506\n",
            "3.5053629875183105\n",
            "3.751659393310547\n",
            "3.2422406673431396\n",
            "3.69661021232605\n",
            "3.269707202911377\n",
            "4.552506923675537\n",
            "3.482429027557373\n",
            "3.547548294067383\n",
            "5.067285060882568\n",
            "4.196204662322998\n",
            "4.028942108154297\n",
            "3.3008158206939697\n",
            "4.133568286895752\n",
            "4.03135871887207\n",
            "3.720484495162964\n",
            "4.064847469329834\n",
            "3.307602643966675\n",
            "3.6816978454589844\n"
          ]
        }
      ]
    },
    {
      "cell_type": "code",
      "source": [
        "#Evaluate the loss\n",
        "emb = C[x[ix]] # (32, 3, 10)\n",
        "h = torch.tanh(emb.view(-1, 6) @ W1 + b1) # (32, 200)\n",
        "logits = h @ W2 + b2 # (32, 27)\n",
        "loss = F.cross_entropy(logits, y[ix])\n",
        "loss"
      ],
      "metadata": {
        "id": "FrO-F2iHbpQq",
        "colab": {
          "base_uri": "https://localhost:8080/"
        },
        "outputId": "9add0650-444c-4e41-97b8-bd96842ab7bd"
      },
      "execution_count": 42,
      "outputs": [
        {
          "output_type": "execute_result",
          "data": {
            "text/plain": [
              "tensor(3.0660, grad_fn=<NllLossBackward0>)"
            ]
          },
          "metadata": {},
          "execution_count": 42
        }
      ]
    },
    {
      "cell_type": "markdown",
      "source": [
        "# **Finding a good Initial Learning rate**"
      ],
      "metadata": {
        "id": "gAVZwjb7rc9R"
      }
    },
    {
      "cell_type": "code",
      "source": [
        "lre = torch.linspace(-3, 0, 1000)\n",
        "lrs = 10**lre\n",
        "lrs"
      ],
      "metadata": {
        "id": "21gL1EambpTG",
        "colab": {
          "base_uri": "https://localhost:8080/"
        },
        "outputId": "7428e70b-6d20-4847-d88f-de5a9a15bbde"
      },
      "execution_count": 43,
      "outputs": [
        {
          "output_type": "execute_result",
          "data": {
            "text/plain": [
              "tensor([0.0010, 0.0010, 0.0010, 0.0010, 0.0010, 0.0010, 0.0010, 0.0010, 0.0011,\n",
              "        0.0011, 0.0011, 0.0011, 0.0011, 0.0011, 0.0011, 0.0011, 0.0011, 0.0011,\n",
              "        0.0011, 0.0011, 0.0011, 0.0012, 0.0012, 0.0012, 0.0012, 0.0012, 0.0012,\n",
              "        0.0012, 0.0012, 0.0012, 0.0012, 0.0012, 0.0012, 0.0013, 0.0013, 0.0013,\n",
              "        0.0013, 0.0013, 0.0013, 0.0013, 0.0013, 0.0013, 0.0013, 0.0013, 0.0014,\n",
              "        0.0014, 0.0014, 0.0014, 0.0014, 0.0014, 0.0014, 0.0014, 0.0014, 0.0014,\n",
              "        0.0015, 0.0015, 0.0015, 0.0015, 0.0015, 0.0015, 0.0015, 0.0015, 0.0015,\n",
              "        0.0015, 0.0016, 0.0016, 0.0016, 0.0016, 0.0016, 0.0016, 0.0016, 0.0016,\n",
              "        0.0016, 0.0017, 0.0017, 0.0017, 0.0017, 0.0017, 0.0017, 0.0017, 0.0017,\n",
              "        0.0018, 0.0018, 0.0018, 0.0018, 0.0018, 0.0018, 0.0018, 0.0018, 0.0019,\n",
              "        0.0019, 0.0019, 0.0019, 0.0019, 0.0019, 0.0019, 0.0019, 0.0020, 0.0020,\n",
              "        0.0020, 0.0020, 0.0020, 0.0020, 0.0020, 0.0021, 0.0021, 0.0021, 0.0021,\n",
              "        0.0021, 0.0021, 0.0021, 0.0022, 0.0022, 0.0022, 0.0022, 0.0022, 0.0022,\n",
              "        0.0022, 0.0023, 0.0023, 0.0023, 0.0023, 0.0023, 0.0023, 0.0024, 0.0024,\n",
              "        0.0024, 0.0024, 0.0024, 0.0024, 0.0025, 0.0025, 0.0025, 0.0025, 0.0025,\n",
              "        0.0025, 0.0026, 0.0026, 0.0026, 0.0026, 0.0026, 0.0027, 0.0027, 0.0027,\n",
              "        0.0027, 0.0027, 0.0027, 0.0028, 0.0028, 0.0028, 0.0028, 0.0028, 0.0029,\n",
              "        0.0029, 0.0029, 0.0029, 0.0029, 0.0030, 0.0030, 0.0030, 0.0030, 0.0030,\n",
              "        0.0031, 0.0031, 0.0031, 0.0031, 0.0032, 0.0032, 0.0032, 0.0032, 0.0032,\n",
              "        0.0033, 0.0033, 0.0033, 0.0033, 0.0034, 0.0034, 0.0034, 0.0034, 0.0034,\n",
              "        0.0035, 0.0035, 0.0035, 0.0035, 0.0036, 0.0036, 0.0036, 0.0036, 0.0037,\n",
              "        0.0037, 0.0037, 0.0037, 0.0038, 0.0038, 0.0038, 0.0039, 0.0039, 0.0039,\n",
              "        0.0039, 0.0040, 0.0040, 0.0040, 0.0040, 0.0041, 0.0041, 0.0041, 0.0042,\n",
              "        0.0042, 0.0042, 0.0042, 0.0043, 0.0043, 0.0043, 0.0044, 0.0044, 0.0044,\n",
              "        0.0045, 0.0045, 0.0045, 0.0045, 0.0046, 0.0046, 0.0046, 0.0047, 0.0047,\n",
              "        0.0047, 0.0048, 0.0048, 0.0048, 0.0049, 0.0049, 0.0049, 0.0050, 0.0050,\n",
              "        0.0050, 0.0051, 0.0051, 0.0051, 0.0052, 0.0052, 0.0053, 0.0053, 0.0053,\n",
              "        0.0054, 0.0054, 0.0054, 0.0055, 0.0055, 0.0056, 0.0056, 0.0056, 0.0057,\n",
              "        0.0057, 0.0058, 0.0058, 0.0058, 0.0059, 0.0059, 0.0060, 0.0060, 0.0060,\n",
              "        0.0061, 0.0061, 0.0062, 0.0062, 0.0062, 0.0063, 0.0063, 0.0064, 0.0064,\n",
              "        0.0065, 0.0065, 0.0066, 0.0066, 0.0067, 0.0067, 0.0067, 0.0068, 0.0068,\n",
              "        0.0069, 0.0069, 0.0070, 0.0070, 0.0071, 0.0071, 0.0072, 0.0072, 0.0073,\n",
              "        0.0073, 0.0074, 0.0074, 0.0075, 0.0075, 0.0076, 0.0076, 0.0077, 0.0077,\n",
              "        0.0078, 0.0079, 0.0079, 0.0080, 0.0080, 0.0081, 0.0081, 0.0082, 0.0082,\n",
              "        0.0083, 0.0084, 0.0084, 0.0085, 0.0085, 0.0086, 0.0086, 0.0087, 0.0088,\n",
              "        0.0088, 0.0089, 0.0090, 0.0090, 0.0091, 0.0091, 0.0092, 0.0093, 0.0093,\n",
              "        0.0094, 0.0095, 0.0095, 0.0096, 0.0097, 0.0097, 0.0098, 0.0099, 0.0099,\n",
              "        0.0100, 0.0101, 0.0101, 0.0102, 0.0103, 0.0104, 0.0104, 0.0105, 0.0106,\n",
              "        0.0106, 0.0107, 0.0108, 0.0109, 0.0109, 0.0110, 0.0111, 0.0112, 0.0112,\n",
              "        0.0113, 0.0114, 0.0115, 0.0116, 0.0116, 0.0117, 0.0118, 0.0119, 0.0120,\n",
              "        0.0121, 0.0121, 0.0122, 0.0123, 0.0124, 0.0125, 0.0126, 0.0127, 0.0127,\n",
              "        0.0128, 0.0129, 0.0130, 0.0131, 0.0132, 0.0133, 0.0134, 0.0135, 0.0136,\n",
              "        0.0137, 0.0137, 0.0138, 0.0139, 0.0140, 0.0141, 0.0142, 0.0143, 0.0144,\n",
              "        0.0145, 0.0146, 0.0147, 0.0148, 0.0149, 0.0150, 0.0151, 0.0152, 0.0154,\n",
              "        0.0155, 0.0156, 0.0157, 0.0158, 0.0159, 0.0160, 0.0161, 0.0162, 0.0163,\n",
              "        0.0165, 0.0166, 0.0167, 0.0168, 0.0169, 0.0170, 0.0171, 0.0173, 0.0174,\n",
              "        0.0175, 0.0176, 0.0178, 0.0179, 0.0180, 0.0181, 0.0182, 0.0184, 0.0185,\n",
              "        0.0186, 0.0188, 0.0189, 0.0190, 0.0192, 0.0193, 0.0194, 0.0196, 0.0197,\n",
              "        0.0198, 0.0200, 0.0201, 0.0202, 0.0204, 0.0205, 0.0207, 0.0208, 0.0210,\n",
              "        0.0211, 0.0212, 0.0214, 0.0215, 0.0217, 0.0218, 0.0220, 0.0221, 0.0223,\n",
              "        0.0225, 0.0226, 0.0228, 0.0229, 0.0231, 0.0232, 0.0234, 0.0236, 0.0237,\n",
              "        0.0239, 0.0241, 0.0242, 0.0244, 0.0246, 0.0247, 0.0249, 0.0251, 0.0253,\n",
              "        0.0254, 0.0256, 0.0258, 0.0260, 0.0261, 0.0263, 0.0265, 0.0267, 0.0269,\n",
              "        0.0271, 0.0273, 0.0274, 0.0276, 0.0278, 0.0280, 0.0282, 0.0284, 0.0286,\n",
              "        0.0288, 0.0290, 0.0292, 0.0294, 0.0296, 0.0298, 0.0300, 0.0302, 0.0304,\n",
              "        0.0307, 0.0309, 0.0311, 0.0313, 0.0315, 0.0317, 0.0320, 0.0322, 0.0324,\n",
              "        0.0326, 0.0328, 0.0331, 0.0333, 0.0335, 0.0338, 0.0340, 0.0342, 0.0345,\n",
              "        0.0347, 0.0350, 0.0352, 0.0354, 0.0357, 0.0359, 0.0362, 0.0364, 0.0367,\n",
              "        0.0369, 0.0372, 0.0375, 0.0377, 0.0380, 0.0382, 0.0385, 0.0388, 0.0390,\n",
              "        0.0393, 0.0396, 0.0399, 0.0401, 0.0404, 0.0407, 0.0410, 0.0413, 0.0416,\n",
              "        0.0418, 0.0421, 0.0424, 0.0427, 0.0430, 0.0433, 0.0436, 0.0439, 0.0442,\n",
              "        0.0445, 0.0448, 0.0451, 0.0455, 0.0458, 0.0461, 0.0464, 0.0467, 0.0471,\n",
              "        0.0474, 0.0477, 0.0480, 0.0484, 0.0487, 0.0491, 0.0494, 0.0497, 0.0501,\n",
              "        0.0504, 0.0508, 0.0511, 0.0515, 0.0518, 0.0522, 0.0526, 0.0529, 0.0533,\n",
              "        0.0537, 0.0540, 0.0544, 0.0548, 0.0552, 0.0556, 0.0559, 0.0563, 0.0567,\n",
              "        0.0571, 0.0575, 0.0579, 0.0583, 0.0587, 0.0591, 0.0595, 0.0599, 0.0604,\n",
              "        0.0608, 0.0612, 0.0616, 0.0621, 0.0625, 0.0629, 0.0634, 0.0638, 0.0642,\n",
              "        0.0647, 0.0651, 0.0656, 0.0660, 0.0665, 0.0670, 0.0674, 0.0679, 0.0684,\n",
              "        0.0688, 0.0693, 0.0698, 0.0703, 0.0708, 0.0713, 0.0718, 0.0723, 0.0728,\n",
              "        0.0733, 0.0738, 0.0743, 0.0748, 0.0753, 0.0758, 0.0764, 0.0769, 0.0774,\n",
              "        0.0780, 0.0785, 0.0790, 0.0796, 0.0802, 0.0807, 0.0813, 0.0818, 0.0824,\n",
              "        0.0830, 0.0835, 0.0841, 0.0847, 0.0853, 0.0859, 0.0865, 0.0871, 0.0877,\n",
              "        0.0883, 0.0889, 0.0895, 0.0901, 0.0908, 0.0914, 0.0920, 0.0927, 0.0933,\n",
              "        0.0940, 0.0946, 0.0953, 0.0959, 0.0966, 0.0973, 0.0979, 0.0986, 0.0993,\n",
              "        0.1000, 0.1007, 0.1014, 0.1021, 0.1028, 0.1035, 0.1042, 0.1050, 0.1057,\n",
              "        0.1064, 0.1072, 0.1079, 0.1087, 0.1094, 0.1102, 0.1109, 0.1117, 0.1125,\n",
              "        0.1133, 0.1140, 0.1148, 0.1156, 0.1164, 0.1172, 0.1181, 0.1189, 0.1197,\n",
              "        0.1205, 0.1214, 0.1222, 0.1231, 0.1239, 0.1248, 0.1256, 0.1265, 0.1274,\n",
              "        0.1283, 0.1292, 0.1301, 0.1310, 0.1319, 0.1328, 0.1337, 0.1346, 0.1356,\n",
              "        0.1365, 0.1374, 0.1384, 0.1394, 0.1403, 0.1413, 0.1423, 0.1433, 0.1443,\n",
              "        0.1453, 0.1463, 0.1473, 0.1483, 0.1493, 0.1504, 0.1514, 0.1525, 0.1535,\n",
              "        0.1546, 0.1557, 0.1567, 0.1578, 0.1589, 0.1600, 0.1611, 0.1623, 0.1634,\n",
              "        0.1645, 0.1657, 0.1668, 0.1680, 0.1691, 0.1703, 0.1715, 0.1727, 0.1739,\n",
              "        0.1751, 0.1763, 0.1775, 0.1788, 0.1800, 0.1812, 0.1825, 0.1838, 0.1850,\n",
              "        0.1863, 0.1876, 0.1889, 0.1902, 0.1916, 0.1929, 0.1942, 0.1956, 0.1969,\n",
              "        0.1983, 0.1997, 0.2010, 0.2024, 0.2038, 0.2053, 0.2067, 0.2081, 0.2096,\n",
              "        0.2110, 0.2125, 0.2140, 0.2154, 0.2169, 0.2184, 0.2200, 0.2215, 0.2230,\n",
              "        0.2246, 0.2261, 0.2277, 0.2293, 0.2309, 0.2325, 0.2341, 0.2357, 0.2373,\n",
              "        0.2390, 0.2406, 0.2423, 0.2440, 0.2457, 0.2474, 0.2491, 0.2508, 0.2526,\n",
              "        0.2543, 0.2561, 0.2579, 0.2597, 0.2615, 0.2633, 0.2651, 0.2669, 0.2688,\n",
              "        0.2707, 0.2725, 0.2744, 0.2763, 0.2783, 0.2802, 0.2821, 0.2841, 0.2861,\n",
              "        0.2880, 0.2900, 0.2921, 0.2941, 0.2961, 0.2982, 0.3002, 0.3023, 0.3044,\n",
              "        0.3065, 0.3087, 0.3108, 0.3130, 0.3151, 0.3173, 0.3195, 0.3217, 0.3240,\n",
              "        0.3262, 0.3285, 0.3308, 0.3331, 0.3354, 0.3377, 0.3400, 0.3424, 0.3448,\n",
              "        0.3472, 0.3496, 0.3520, 0.3544, 0.3569, 0.3594, 0.3619, 0.3644, 0.3669,\n",
              "        0.3695, 0.3720, 0.3746, 0.3772, 0.3798, 0.3825, 0.3851, 0.3878, 0.3905,\n",
              "        0.3932, 0.3959, 0.3987, 0.4014, 0.4042, 0.4070, 0.4098, 0.4127, 0.4155,\n",
              "        0.4184, 0.4213, 0.4243, 0.4272, 0.4302, 0.4331, 0.4362, 0.4392, 0.4422,\n",
              "        0.4453, 0.4484, 0.4515, 0.4546, 0.4578, 0.4610, 0.4642, 0.4674, 0.4706,\n",
              "        0.4739, 0.4772, 0.4805, 0.4838, 0.4872, 0.4906, 0.4940, 0.4974, 0.5008,\n",
              "        0.5043, 0.5078, 0.5113, 0.5149, 0.5185, 0.5221, 0.5257, 0.5293, 0.5330,\n",
              "        0.5367, 0.5404, 0.5442, 0.5479, 0.5517, 0.5556, 0.5594, 0.5633, 0.5672,\n",
              "        0.5712, 0.5751, 0.5791, 0.5831, 0.5872, 0.5913, 0.5954, 0.5995, 0.6036,\n",
              "        0.6078, 0.6120, 0.6163, 0.6206, 0.6249, 0.6292, 0.6336, 0.6380, 0.6424,\n",
              "        0.6469, 0.6513, 0.6559, 0.6604, 0.6650, 0.6696, 0.6743, 0.6789, 0.6837,\n",
              "        0.6884, 0.6932, 0.6980, 0.7028, 0.7077, 0.7126, 0.7176, 0.7225, 0.7275,\n",
              "        0.7326, 0.7377, 0.7428, 0.7480, 0.7531, 0.7584, 0.7636, 0.7689, 0.7743,\n",
              "        0.7796, 0.7850, 0.7905, 0.7960, 0.8015, 0.8071, 0.8127, 0.8183, 0.8240,\n",
              "        0.8297, 0.8355, 0.8412, 0.8471, 0.8530, 0.8589, 0.8648, 0.8708, 0.8769,\n",
              "        0.8830, 0.8891, 0.8953, 0.9015, 0.9077, 0.9140, 0.9204, 0.9268, 0.9332,\n",
              "        0.9397, 0.9462, 0.9528, 0.9594, 0.9660, 0.9727, 0.9795, 0.9863, 0.9931,\n",
              "        1.0000])"
            ]
          },
          "metadata": {},
          "execution_count": 43
        }
      ]
    },
    {
      "cell_type": "code",
      "source": [
        "lri=[]\n",
        "lossi=[]\n",
        "for i in range(1000):\n",
        "   # minibatch construct\n",
        "    ix = torch.randint(0, x.shape[0], (32,))\n",
        "  # forward pass\n",
        "    emb = C[x[ix]] # (32, 3, 10)\n",
        "    h = torch.tanh(emb.view(-1, 6) @ W1 + b1) # (32, 200)\n",
        "    logits = h @ W2 + b2 # (32, 27)\n",
        "    loss = F.cross_entropy(logits, y[ix])\n",
        "    print(loss.item())\n",
        "    \n",
        "    # backward pass\n",
        "    for p in parameters:\n",
        "      p.grad = None\n",
        "    loss.backward()\n",
        "\n",
        "    # update\n",
        "    lr = lrs[i]\n",
        "    # lr = 0.1 if i < 100000 else 0.01\n",
        "    for p in parameters:\n",
        "      p.data += -lr * p.grad\n",
        "\n",
        "    #track stat\n",
        "    lri.append(lr)\n",
        "    lossi.append(loss.item())\n"
      ],
      "metadata": {
        "id": "KhV6dIZqbpXl",
        "colab": {
          "base_uri": "https://localhost:8080/"
        },
        "outputId": "baa12de7-91f6-4550-db65-cd6e4ef842b8"
      },
      "execution_count": 44,
      "outputs": [
        {
          "output_type": "stream",
          "name": "stdout",
          "text": [
            "3.0143158435821533\n",
            "3.2295899391174316\n",
            "2.9272122383117676\n",
            "3.7029573917388916\n",
            "3.5515215396881104\n",
            "3.1591951847076416\n",
            "3.6827197074890137\n",
            "2.97457218170166\n",
            "4.02423620223999\n",
            "3.644627571105957\n",
            "3.3759262561798096\n",
            "3.088881731033325\n",
            "3.348958969116211\n",
            "3.974942922592163\n",
            "3.4417619705200195\n",
            "3.7613794803619385\n",
            "3.5772361755371094\n",
            "3.873506546020508\n",
            "3.755626678466797\n",
            "3.2751574516296387\n",
            "3.857928514480591\n",
            "3.246492862701416\n",
            "3.249133586883545\n",
            "3.142470121383667\n",
            "3.5367493629455566\n",
            "4.088107109069824\n",
            "3.9072465896606445\n",
            "3.9414453506469727\n",
            "3.239542007446289\n",
            "3.565978527069092\n",
            "3.63662052154541\n",
            "4.133208751678467\n",
            "3.638090133666992\n",
            "3.0509774684906006\n",
            "2.7714154720306396\n",
            "2.7341926097869873\n",
            "3.7726731300354004\n",
            "3.7057149410247803\n",
            "3.5309879779815674\n",
            "2.691497325897217\n",
            "3.725513219833374\n",
            "3.3793017864227295\n",
            "4.467315196990967\n",
            "3.5328238010406494\n",
            "3.2396469116210938\n",
            "3.8833463191986084\n",
            "2.937265634536743\n",
            "3.680391788482666\n",
            "4.104469299316406\n",
            "3.3978724479675293\n",
            "3.4946224689483643\n",
            "4.368276119232178\n",
            "3.3899567127227783\n",
            "4.175501346588135\n",
            "3.8927996158599854\n",
            "3.5296576023101807\n",
            "3.7296876907348633\n",
            "3.534400701522827\n",
            "2.802401542663574\n",
            "3.003192663192749\n",
            "3.5455269813537598\n",
            "3.5560436248779297\n",
            "3.7560043334960938\n",
            "3.207977056503296\n",
            "3.1201395988464355\n",
            "3.4026966094970703\n",
            "3.338501453399658\n",
            "3.6977686882019043\n",
            "3.9803712368011475\n",
            "4.391086101531982\n",
            "3.895460844039917\n",
            "3.7106356620788574\n",
            "3.609525680541992\n",
            "3.1733062267303467\n",
            "3.4767515659332275\n",
            "3.890890598297119\n",
            "4.029664993286133\n",
            "3.2919957637786865\n",
            "3.0028090476989746\n",
            "4.003357887268066\n",
            "4.979371547698975\n",
            "3.2305264472961426\n",
            "3.3920347690582275\n",
            "3.75174617767334\n",
            "3.9898064136505127\n",
            "3.8101062774658203\n",
            "3.350351572036743\n",
            "3.4620871543884277\n",
            "3.1587531566619873\n",
            "3.637098789215088\n",
            "3.1391830444335938\n",
            "3.433011531829834\n",
            "3.2808141708374023\n",
            "3.862950086593628\n",
            "3.542335271835327\n",
            "4.317183971405029\n",
            "4.267505168914795\n",
            "3.4126949310302734\n",
            "4.520763874053955\n",
            "3.7765064239501953\n",
            "3.4022297859191895\n",
            "3.3868157863616943\n",
            "2.9396233558654785\n",
            "2.631039619445801\n",
            "3.9184327125549316\n",
            "3.3494699001312256\n",
            "3.6536245346069336\n",
            "3.045848846435547\n",
            "3.748721122741699\n",
            "3.8712284564971924\n",
            "3.7160637378692627\n",
            "3.370398998260498\n",
            "4.293115139007568\n",
            "4.7363362312316895\n",
            "3.3891730308532715\n",
            "3.0155625343322754\n",
            "2.8037915229797363\n",
            "3.4460384845733643\n",
            "3.131277322769165\n",
            "4.223149299621582\n",
            "4.099390506744385\n",
            "3.486941337585449\n",
            "3.7779526710510254\n",
            "2.7141215801239014\n",
            "3.0206005573272705\n",
            "3.4826440811157227\n",
            "3.2339038848876953\n",
            "4.26320219039917\n",
            "2.853342294692993\n",
            "3.2832446098327637\n",
            "2.875839948654175\n",
            "4.398609638214111\n",
            "3.442265033721924\n",
            "3.3433151245117188\n",
            "2.910799026489258\n",
            "3.7983410358428955\n",
            "3.5366368293762207\n",
            "3.458026885986328\n",
            "3.371690034866333\n",
            "3.546384572982788\n",
            "3.5060055255889893\n",
            "3.2609267234802246\n",
            "2.9840245246887207\n",
            "3.6837830543518066\n",
            "3.425863265991211\n",
            "3.680023193359375\n",
            "3.103940725326538\n",
            "3.038240909576416\n",
            "3.5019891262054443\n",
            "2.9390006065368652\n",
            "3.1753149032592773\n",
            "3.930715560913086\n",
            "5.321906566619873\n",
            "3.611680030822754\n",
            "3.595905065536499\n",
            "3.8087196350097656\n",
            "3.843954563140869\n",
            "2.986436605453491\n",
            "3.2758970260620117\n",
            "3.962268352508545\n",
            "3.7771196365356445\n",
            "3.4583840370178223\n",
            "3.2975714206695557\n",
            "3.4488654136657715\n",
            "3.927985429763794\n",
            "4.151434421539307\n",
            "3.4111526012420654\n",
            "3.356588840484619\n",
            "3.239471673965454\n",
            "3.321145534515381\n",
            "3.439423084259033\n",
            "3.7919576168060303\n",
            "4.199948787689209\n",
            "3.6496920585632324\n",
            "3.5699245929718018\n",
            "3.809502363204956\n",
            "3.4819846153259277\n",
            "4.178483009338379\n",
            "2.86767578125\n",
            "3.310868263244629\n",
            "3.0688416957855225\n",
            "3.0316152572631836\n",
            "3.911105155944824\n",
            "2.98582124710083\n",
            "2.944500207901001\n",
            "3.0178184509277344\n",
            "2.715099811553955\n",
            "4.4702839851379395\n",
            "3.7737250328063965\n",
            "4.348724842071533\n",
            "2.9723362922668457\n",
            "2.941498279571533\n",
            "3.9388890266418457\n",
            "3.9809155464172363\n",
            "3.2878596782684326\n",
            "3.3508188724517822\n",
            "2.997349739074707\n",
            "3.107475996017456\n",
            "3.5363917350769043\n",
            "3.734109401702881\n",
            "2.944584369659424\n",
            "3.79472017288208\n",
            "3.872526168823242\n",
            "3.9848875999450684\n",
            "3.2368040084838867\n",
            "3.878119945526123\n",
            "3.0253610610961914\n",
            "3.965402603149414\n",
            "2.9296810626983643\n",
            "3.1515159606933594\n",
            "3.3398702144622803\n",
            "3.277012586593628\n",
            "2.9377059936523438\n",
            "2.6370418071746826\n",
            "3.8229620456695557\n",
            "3.6435861587524414\n",
            "3.3581666946411133\n",
            "3.168724536895752\n",
            "3.2843947410583496\n",
            "3.7583346366882324\n",
            "3.615581512451172\n",
            "2.7766032218933105\n",
            "4.163590908050537\n",
            "2.86964750289917\n",
            "2.4254088401794434\n",
            "3.453549385070801\n",
            "4.199674606323242\n",
            "2.9770545959472656\n",
            "5.078299045562744\n",
            "3.01717472076416\n",
            "4.061927795410156\n",
            "3.13761043548584\n",
            "2.7831337451934814\n",
            "4.206019401550293\n",
            "3.5212326049804688\n",
            "3.649611473083496\n",
            "3.2150492668151855\n",
            "3.5621731281280518\n",
            "3.722787380218506\n",
            "3.8103976249694824\n",
            "2.840519666671753\n",
            "3.1769330501556396\n",
            "3.1024715900421143\n",
            "3.2890465259552\n",
            "3.507107973098755\n",
            "3.1764018535614014\n",
            "3.3375775814056396\n",
            "3.347451686859131\n",
            "3.646531581878662\n",
            "2.9301061630249023\n",
            "3.3244545459747314\n",
            "3.482409954071045\n",
            "4.584748268127441\n",
            "3.4251885414123535\n",
            "3.8356101512908936\n",
            "4.7385663986206055\n",
            "3.210618257522583\n",
            "3.060579299926758\n",
            "3.3496458530426025\n",
            "2.633727550506592\n",
            "3.205244541168213\n",
            "3.6429686546325684\n",
            "3.0830674171447754\n",
            "2.931455612182617\n",
            "3.0688154697418213\n",
            "3.340115547180176\n",
            "3.367781639099121\n",
            "3.7996416091918945\n",
            "3.222658634185791\n",
            "4.864488124847412\n",
            "3.980639934539795\n",
            "3.3034539222717285\n",
            "3.327772617340088\n",
            "3.093353509902954\n",
            "3.0198628902435303\n",
            "2.951017379760742\n",
            "3.014561176300049\n",
            "3.3326194286346436\n",
            "3.648458480834961\n",
            "2.7688488960266113\n",
            "3.5759565830230713\n",
            "2.9670467376708984\n",
            "2.749755859375\n",
            "3.2319889068603516\n",
            "3.26444149017334\n",
            "3.5955381393432617\n",
            "3.4117813110351562\n",
            "3.8321385383605957\n",
            "4.203813076019287\n",
            "3.0328586101531982\n",
            "3.0520312786102295\n",
            "3.519420623779297\n",
            "2.9099371433258057\n",
            "3.5814781188964844\n",
            "2.7591230869293213\n",
            "3.436026096343994\n",
            "3.719911813735962\n",
            "3.786381244659424\n",
            "3.1910550594329834\n",
            "3.0661368370056152\n",
            "3.247729539871216\n",
            "3.9777023792266846\n",
            "3.352139949798584\n",
            "3.4635815620422363\n",
            "3.9151804447174072\n",
            "3.2526307106018066\n",
            "4.0615010261535645\n",
            "3.6543233394622803\n",
            "3.3557276725769043\n",
            "2.619879722595215\n",
            "3.159022808074951\n",
            "3.3280582427978516\n",
            "3.182102680206299\n",
            "3.0762381553649902\n",
            "3.9926135540008545\n",
            "3.28943133354187\n",
            "4.234994888305664\n",
            "3.330998420715332\n",
            "2.948737859725952\n",
            "4.050458908081055\n",
            "3.336806535720825\n",
            "4.367997646331787\n",
            "3.8955180644989014\n",
            "3.6901793479919434\n",
            "3.4342079162597656\n",
            "3.235079050064087\n",
            "3.171872615814209\n",
            "3.2889864444732666\n",
            "3.5618464946746826\n",
            "3.5721123218536377\n",
            "2.585598945617676\n",
            "3.8471527099609375\n",
            "3.3913092613220215\n",
            "3.078082323074341\n",
            "2.7699368000030518\n",
            "4.098876476287842\n",
            "2.7759792804718018\n",
            "3.9001293182373047\n",
            "4.720870494842529\n",
            "2.9117846488952637\n",
            "4.04022216796875\n",
            "3.0085220336914062\n",
            "4.075496196746826\n",
            "3.1365156173706055\n",
            "3.3720290660858154\n",
            "3.21364426612854\n",
            "3.122490882873535\n",
            "3.3817102909088135\n",
            "2.6590936183929443\n",
            "3.0517494678497314\n",
            "3.4360923767089844\n",
            "3.6433308124542236\n",
            "3.3699898719787598\n",
            "2.684481143951416\n",
            "3.2854135036468506\n",
            "3.401728391647339\n",
            "3.305821418762207\n",
            "3.0306811332702637\n",
            "4.206541061401367\n",
            "3.3105714321136475\n",
            "3.3224289417266846\n",
            "3.131303071975708\n",
            "3.917276620864868\n",
            "2.620532751083374\n",
            "2.7357499599456787\n",
            "3.0696897506713867\n",
            "2.9958245754241943\n",
            "4.510920524597168\n",
            "2.869602680206299\n",
            "3.9737775325775146\n",
            "3.014058828353882\n",
            "3.1062746047973633\n",
            "3.1591246128082275\n",
            "3.5133233070373535\n",
            "3.297325372695923\n",
            "3.3333353996276855\n",
            "3.3855936527252197\n",
            "3.4614386558532715\n",
            "3.7730581760406494\n",
            "4.298363208770752\n",
            "2.9737136363983154\n",
            "3.4003615379333496\n",
            "2.5300049781799316\n",
            "3.510915517807007\n",
            "2.9140431880950928\n",
            "3.2579004764556885\n",
            "2.6203675270080566\n",
            "2.8900039196014404\n",
            "3.5481789112091064\n",
            "3.0872066020965576\n",
            "4.057554244995117\n",
            "2.798886775970459\n",
            "3.563129186630249\n",
            "3.3505897521972656\n",
            "3.141097068786621\n",
            "2.4554696083068848\n",
            "3.7911858558654785\n",
            "3.531342029571533\n",
            "3.0060806274414062\n",
            "3.609567880630493\n",
            "3.263423204421997\n",
            "4.15993595123291\n",
            "3.5615367889404297\n",
            "3.3710222244262695\n",
            "3.097452163696289\n",
            "3.7873075008392334\n",
            "3.4649782180786133\n",
            "3.31183123588562\n",
            "3.849820613861084\n",
            "2.8858718872070312\n",
            "3.592613458633423\n",
            "3.0409998893737793\n",
            "3.1843421459198\n",
            "3.388800621032715\n",
            "3.0847957134246826\n",
            "3.0351998805999756\n",
            "3.621363878250122\n",
            "2.8750576972961426\n",
            "3.2152373790740967\n",
            "3.10380220413208\n",
            "2.8208658695220947\n",
            "3.7824816703796387\n",
            "3.221548080444336\n",
            "3.2785465717315674\n",
            "3.5016379356384277\n",
            "3.2868871688842773\n",
            "3.093123197555542\n",
            "3.6987457275390625\n",
            "3.2611827850341797\n",
            "3.6228857040405273\n",
            "3.2373862266540527\n",
            "3.268714189529419\n",
            "3.2120721340179443\n",
            "3.6058454513549805\n",
            "3.033478021621704\n",
            "4.036711692810059\n",
            "3.745849132537842\n",
            "3.4324169158935547\n",
            "3.477597951889038\n",
            "2.6988937854766846\n",
            "3.1471734046936035\n",
            "2.41726016998291\n",
            "3.1175124645233154\n",
            "3.088770627975464\n",
            "3.1359541416168213\n",
            "3.592928171157837\n",
            "3.6451618671417236\n",
            "3.1434719562530518\n",
            "3.3130569458007812\n",
            "3.9877548217773438\n",
            "3.3040661811828613\n",
            "3.591230630874634\n",
            "2.7530899047851562\n",
            "3.520883321762085\n",
            "2.7109885215759277\n",
            "2.74299693107605\n",
            "2.6949851512908936\n",
            "3.1704657077789307\n",
            "2.9247584342956543\n",
            "3.07561993598938\n",
            "3.0364131927490234\n",
            "2.724048376083374\n",
            "3.378502130508423\n",
            "2.994845390319824\n",
            "2.8132476806640625\n",
            "3.512537956237793\n",
            "3.334052324295044\n",
            "2.8883988857269287\n",
            "2.663339376449585\n",
            "3.086806297302246\n",
            "3.172220468521118\n",
            "3.089592695236206\n",
            "2.904484510421753\n",
            "2.719968318939209\n",
            "2.742022752761841\n",
            "3.1588211059570312\n",
            "2.73891019821167\n",
            "3.3044373989105225\n",
            "3.2257680892944336\n",
            "2.8471004962921143\n",
            "2.836292266845703\n",
            "2.6915321350097656\n",
            "2.596743583679199\n",
            "4.047165393829346\n",
            "3.7872095108032227\n",
            "4.4826154708862305\n",
            "2.9751689434051514\n",
            "3.184943675994873\n",
            "2.6577017307281494\n",
            "3.6819920539855957\n",
            "3.159107208251953\n",
            "3.6298744678497314\n",
            "3.8765552043914795\n",
            "3.465705633163452\n",
            "2.749363660812378\n",
            "3.779616594314575\n",
            "2.6399452686309814\n",
            "3.520488739013672\n",
            "2.7998502254486084\n",
            "3.6033380031585693\n",
            "3.120448350906372\n",
            "2.619142532348633\n",
            "3.243575096130371\n",
            "3.1411259174346924\n",
            "2.4478869438171387\n",
            "3.1102657318115234\n",
            "2.96941876411438\n",
            "3.442122459411621\n",
            "2.8775582313537598\n",
            "3.0212948322296143\n",
            "2.7618796825408936\n",
            "3.5199010372161865\n",
            "4.018211364746094\n",
            "3.114466905593872\n",
            "3.128349542617798\n",
            "2.7364258766174316\n",
            "3.38761830329895\n",
            "2.899792432785034\n",
            "2.559417247772217\n",
            "2.872826337814331\n",
            "3.685520648956299\n",
            "3.2488303184509277\n",
            "3.4842803478240967\n",
            "2.8398842811584473\n",
            "3.243865728378296\n",
            "2.9122772216796875\n",
            "2.7711727619171143\n",
            "3.538173198699951\n",
            "3.016770601272583\n",
            "3.4271628856658936\n",
            "3.4974777698516846\n",
            "2.5836687088012695\n",
            "3.185873031616211\n",
            "2.82938289642334\n",
            "3.4678127765655518\n",
            "3.3560497760772705\n",
            "2.9839909076690674\n",
            "3.219822645187378\n",
            "2.7514615058898926\n",
            "3.534186601638794\n",
            "3.409294605255127\n",
            "3.0605103969573975\n",
            "3.3525121212005615\n",
            "2.9282586574554443\n",
            "3.257875442504883\n",
            "3.180187225341797\n",
            "2.6245481967926025\n",
            "3.1738946437835693\n",
            "3.0507969856262207\n",
            "3.0762033462524414\n",
            "2.585983991622925\n",
            "3.2337024211883545\n",
            "3.300060510635376\n",
            "3.140735387802124\n",
            "3.112150192260742\n",
            "3.281966209411621\n",
            "3.058865785598755\n",
            "3.1082239151000977\n",
            "2.83825421333313\n",
            "3.4461352825164795\n",
            "3.5318682193756104\n",
            "3.148531198501587\n",
            "3.4945003986358643\n",
            "2.555659055709839\n",
            "2.7691783905029297\n",
            "2.598019599914551\n",
            "2.502422332763672\n",
            "3.3282816410064697\n",
            "3.9855616092681885\n",
            "2.7334203720092773\n",
            "3.1126880645751953\n",
            "2.3896255493164062\n",
            "2.8727807998657227\n",
            "2.816561698913574\n",
            "3.432732343673706\n",
            "3.088852882385254\n",
            "2.748131513595581\n",
            "2.638331890106201\n",
            "3.2073750495910645\n",
            "4.19854736328125\n",
            "2.4493355751037598\n",
            "2.792245864868164\n",
            "3.4919967651367188\n",
            "3.0110902786254883\n",
            "2.868777275085449\n",
            "2.8915140628814697\n",
            "2.751504898071289\n",
            "3.4028093814849854\n",
            "3.1614110469818115\n",
            "3.033862829208374\n",
            "2.676619529724121\n",
            "2.7247509956359863\n",
            "3.378091335296631\n",
            "2.86364483833313\n",
            "3.134159803390503\n",
            "2.9405810832977295\n",
            "2.8673765659332275\n",
            "2.650071859359741\n",
            "2.9629931449890137\n",
            "2.9805290699005127\n",
            "3.0465192794799805\n",
            "3.1755433082580566\n",
            "2.7375571727752686\n",
            "2.974172353744507\n",
            "3.4162685871124268\n",
            "3.0298428535461426\n",
            "2.657480001449585\n",
            "3.3062005043029785\n",
            "2.646437883377075\n",
            "3.2797744274139404\n",
            "3.0900001525878906\n",
            "2.759169101715088\n",
            "3.6904830932617188\n",
            "3.1688954830169678\n",
            "2.940783739089966\n",
            "2.841614246368408\n",
            "2.958008289337158\n",
            "3.12105131149292\n",
            "3.010694742202759\n",
            "2.954119920730591\n",
            "2.8885762691497803\n",
            "2.614381790161133\n",
            "3.0929770469665527\n",
            "2.7138960361480713\n",
            "3.6749796867370605\n",
            "3.2160685062408447\n",
            "2.847001075744629\n",
            "3.0636026859283447\n",
            "3.076064348220825\n",
            "2.5689778327941895\n",
            "2.4903335571289062\n",
            "2.8292272090911865\n",
            "3.3865408897399902\n",
            "3.154879331588745\n",
            "3.0098958015441895\n",
            "3.3476786613464355\n",
            "2.804097890853882\n",
            "2.8960437774658203\n",
            "2.8894717693328857\n",
            "2.7068114280700684\n",
            "3.1134634017944336\n",
            "2.9304208755493164\n",
            "2.8451013565063477\n",
            "3.2357590198516846\n",
            "2.9251060485839844\n",
            "3.8821160793304443\n",
            "3.1389803886413574\n",
            "2.8254804611206055\n",
            "2.6601920127868652\n",
            "2.518059730529785\n",
            "3.4251325130462646\n",
            "2.9967527389526367\n",
            "2.9882800579071045\n",
            "3.4766623973846436\n",
            "3.24653959274292\n",
            "2.9232864379882812\n",
            "2.5617713928222656\n",
            "2.5489959716796875\n",
            "3.086963415145874\n",
            "3.0716469287872314\n",
            "3.073971748352051\n",
            "2.8778388500213623\n",
            "2.57515811920166\n",
            "3.368128776550293\n",
            "2.743583917617798\n",
            "2.974066972732544\n",
            "3.624776601791382\n",
            "3.4073169231414795\n",
            "2.599107027053833\n",
            "2.6387922763824463\n",
            "2.876171827316284\n",
            "3.5853686332702637\n",
            "2.4668257236480713\n",
            "2.8709285259246826\n",
            "2.989794969558716\n",
            "2.8873026371002197\n",
            "2.7218918800354004\n",
            "3.5956294536590576\n",
            "2.9870986938476562\n",
            "3.128516912460327\n",
            "2.950791120529175\n",
            "3.524578094482422\n",
            "3.2554705142974854\n",
            "2.5735559463500977\n",
            "3.065521717071533\n",
            "3.2609782218933105\n",
            "3.4915478229522705\n",
            "2.938080072402954\n",
            "2.6260995864868164\n",
            "3.254383087158203\n",
            "2.699549436569214\n",
            "2.6133241653442383\n",
            "3.4273102283477783\n",
            "2.7325336933135986\n",
            "3.009721279144287\n",
            "2.474431037902832\n",
            "3.2694053649902344\n",
            "2.7075068950653076\n",
            "2.6820852756500244\n",
            "2.9484946727752686\n",
            "3.158114194869995\n",
            "2.7311532497406006\n",
            "2.7156901359558105\n",
            "3.0141398906707764\n",
            "2.821146011352539\n",
            "2.8785898685455322\n",
            "3.314415693283081\n",
            "3.117159605026245\n",
            "3.2442781925201416\n",
            "2.8029654026031494\n",
            "2.879521608352661\n",
            "2.9167232513427734\n",
            "2.7942357063293457\n",
            "2.66693377494812\n",
            "2.842772960662842\n",
            "2.456655502319336\n",
            "2.8794589042663574\n",
            "3.131359338760376\n",
            "2.6383681297302246\n",
            "2.8742828369140625\n",
            "3.2791945934295654\n",
            "3.219550848007202\n",
            "2.952709913253784\n",
            "3.534248113632202\n",
            "3.0326972007751465\n",
            "3.2227416038513184\n",
            "3.4615678787231445\n",
            "3.29339337348938\n",
            "2.74621844291687\n",
            "2.533799886703491\n",
            "3.3915419578552246\n",
            "2.848021984100342\n",
            "2.8202762603759766\n",
            "3.128936767578125\n",
            "3.0722227096557617\n",
            "2.9266855716705322\n",
            "2.891422748565674\n",
            "3.0705440044403076\n",
            "3.333336114883423\n",
            "2.9770281314849854\n",
            "3.3820807933807373\n",
            "3.062594175338745\n",
            "3.4168848991394043\n",
            "3.2475805282592773\n",
            "2.9775478839874268\n",
            "3.64646053314209\n",
            "3.080509901046753\n",
            "3.4344983100891113\n",
            "3.1965889930725098\n",
            "3.617826223373413\n",
            "3.465815544128418\n",
            "3.398566484451294\n",
            "3.0998477935791016\n",
            "3.18508243560791\n",
            "3.0069329738616943\n",
            "3.1811225414276123\n",
            "3.0881495475769043\n",
            "3.1159443855285645\n",
            "2.8145432472229004\n",
            "3.0531458854675293\n",
            "3.0660359859466553\n",
            "2.975083589553833\n",
            "3.6322906017303467\n",
            "2.4964330196380615\n",
            "3.135352373123169\n",
            "3.2213940620422363\n",
            "2.5549731254577637\n",
            "2.8024094104766846\n",
            "3.210355281829834\n",
            "3.2500574588775635\n",
            "2.721817970275879\n",
            "3.391648769378662\n",
            "2.764366865158081\n",
            "3.5664477348327637\n",
            "3.3631441593170166\n",
            "2.2092809677124023\n",
            "3.382910966873169\n",
            "3.0438232421875\n",
            "3.583867311477661\n",
            "3.2909579277038574\n",
            "3.0653176307678223\n",
            "3.684673309326172\n",
            "3.84305739402771\n",
            "3.555786609649658\n",
            "3.150007963180542\n",
            "3.028104543685913\n",
            "3.3723063468933105\n",
            "3.449744462966919\n",
            "4.061708450317383\n",
            "3.146836280822754\n",
            "2.971431255340576\n",
            "3.357619047164917\n",
            "3.1795012950897217\n",
            "2.8727102279663086\n",
            "3.0523324012756348\n",
            "2.612640619277954\n",
            "3.297475576400757\n",
            "3.2062346935272217\n",
            "3.1093947887420654\n",
            "2.5612878799438477\n",
            "3.29764461517334\n",
            "3.3188657760620117\n",
            "2.8289763927459717\n",
            "3.478315830230713\n",
            "2.9429852962493896\n",
            "2.7440550327301025\n",
            "3.0606818199157715\n",
            "3.038456439971924\n",
            "3.0101828575134277\n",
            "3.2216403484344482\n",
            "3.431089401245117\n",
            "2.9165773391723633\n",
            "3.1789309978485107\n",
            "2.810187578201294\n",
            "3.4460480213165283\n",
            "3.209110975265503\n",
            "3.625469446182251\n",
            "3.9679393768310547\n",
            "4.063623428344727\n",
            "4.2711663246154785\n",
            "3.0119218826293945\n",
            "4.245093822479248\n",
            "4.150152206420898\n",
            "3.611539125442505\n",
            "3.3274121284484863\n",
            "3.6134443283081055\n",
            "4.118985176086426\n",
            "5.447450160980225\n",
            "4.2804059982299805\n",
            "3.7541966438293457\n",
            "3.7819862365722656\n",
            "2.9756321907043457\n",
            "3.5778136253356934\n",
            "4.036563873291016\n",
            "3.518199920654297\n",
            "3.164280414581299\n",
            "3.6727752685546875\n",
            "2.976365089416504\n",
            "3.681955337524414\n",
            "4.29941463470459\n",
            "4.442143440246582\n",
            "3.9797611236572266\n",
            "4.760051727294922\n",
            "4.216261386871338\n",
            "3.904139280319214\n",
            "4.268453598022461\n",
            "4.217498302459717\n",
            "4.902588367462158\n",
            "4.181521415710449\n",
            "3.976163148880005\n",
            "4.393727779388428\n",
            "4.835900783538818\n",
            "3.786045789718628\n",
            "3.7673487663269043\n",
            "3.652944564819336\n",
            "3.944247007369995\n",
            "3.588326930999756\n",
            "4.952386379241943\n",
            "4.1240105628967285\n",
            "3.39845871925354\n",
            "3.0492208003997803\n",
            "3.0978119373321533\n",
            "5.013327598571777\n",
            "4.593994140625\n",
            "4.098992347717285\n",
            "5.5018415451049805\n",
            "4.237182140350342\n",
            "3.9644699096679688\n",
            "3.7800965309143066\n",
            "4.463027477264404\n",
            "4.561206817626953\n",
            "4.2984538078308105\n",
            "3.7828078269958496\n",
            "3.6897356510162354\n",
            "5.238277435302734\n",
            "3.889761447906494\n",
            "4.544430732727051\n",
            "5.617126941680908\n",
            "4.960140228271484\n",
            "4.0550994873046875\n",
            "3.3721671104431152\n",
            "6.283934116363525\n",
            "5.556119441986084\n",
            "4.582236289978027\n",
            "5.050948619842529\n",
            "4.142399311065674\n",
            "4.513880729675293\n",
            "3.9397826194763184\n",
            "5.630208969116211\n",
            "4.79400110244751\n",
            "4.391660690307617\n",
            "5.705977916717529\n",
            "5.175849914550781\n",
            "3.9863014221191406\n",
            "6.0849528312683105\n",
            "4.3629150390625\n",
            "4.203505039215088\n",
            "4.668863773345947\n",
            "5.628231048583984\n",
            "5.495831489562988\n",
            "4.414026260375977\n",
            "5.088160037994385\n",
            "4.685315132141113\n",
            "3.863518238067627\n",
            "4.446171760559082\n",
            "4.3783345222473145\n",
            "4.133923530578613\n",
            "4.3254241943359375\n",
            "6.585841178894043\n",
            "4.107726097106934\n",
            "4.651177406311035\n",
            "4.969100475311279\n",
            "5.641913414001465\n",
            "6.557529449462891\n",
            "5.400537967681885\n",
            "5.912901878356934\n",
            "4.429865837097168\n",
            "6.276437282562256\n",
            "6.8947834968566895\n",
            "7.250575542449951\n",
            "4.877466201782227\n",
            "5.374856472015381\n",
            "5.335470676422119\n",
            "4.5187835693359375\n",
            "4.318519592285156\n",
            "3.778681755065918\n",
            "4.460012435913086\n",
            "3.828023910522461\n",
            "4.0241546630859375\n",
            "4.399068832397461\n",
            "5.150204658508301\n",
            "4.719878196716309\n",
            "6.289117813110352\n",
            "6.159099578857422\n",
            "7.559093952178955\n",
            "5.028716087341309\n",
            "4.98792028427124\n",
            "5.0991010665893555\n",
            "5.457308292388916\n",
            "4.654729843139648\n",
            "4.797026634216309\n",
            "4.533809185028076\n",
            "6.74605655670166\n",
            "6.796722412109375\n",
            "5.338176727294922\n",
            "4.693066596984863\n",
            "4.458773136138916\n",
            "5.292658805847168\n",
            "5.680473804473877\n",
            "4.782821178436279\n",
            "6.325747489929199\n",
            "4.384570598602295\n",
            "4.846658706665039\n",
            "3.8829617500305176\n",
            "5.065439701080322\n",
            "5.537597179412842\n",
            "5.270409107208252\n",
            "4.9606032371521\n",
            "6.520266056060791\n",
            "6.21365213394165\n",
            "6.386494159698486\n",
            "4.920763969421387\n",
            "5.14400577545166\n",
            "4.762936115264893\n",
            "5.731782913208008\n",
            "5.370726108551025\n",
            "5.012135982513428\n",
            "6.6751251220703125\n",
            "6.454578876495361\n",
            "6.548830032348633\n",
            "5.457331657409668\n",
            "5.554922580718994\n",
            "6.371402263641357\n",
            "6.146822452545166\n",
            "6.7160820960998535\n",
            "6.553616523742676\n",
            "7.976052761077881\n",
            "10.05257797241211\n",
            "7.512354850769043\n",
            "8.354439735412598\n",
            "6.077810764312744\n",
            "10.605757713317871\n",
            "5.3249664306640625\n",
            "6.814584255218506\n",
            "7.043391704559326\n",
            "7.891356468200684\n",
            "7.301182746887207\n",
            "4.280494213104248\n",
            "9.087508201599121\n",
            "5.388156890869141\n",
            "6.452360153198242\n",
            "6.021020889282227\n",
            "6.248752593994141\n",
            "7.699941158294678\n",
            "5.938507080078125\n",
            "7.114884853363037\n",
            "9.229331970214844\n",
            "6.820598602294922\n",
            "8.798215866088867\n",
            "7.601485729217529\n"
          ]
        }
      ]
    },
    {
      "cell_type": "code",
      "source": [
        "plt.plot(lri, lossi)\n"
      ],
      "metadata": {
        "id": "QJxdeuKkbpaE",
        "colab": {
          "base_uri": "https://localhost:8080/",
          "height": 447
        },
        "outputId": "d6a3a7ab-6e17-47e1-85f2-0e41449ceb15"
      },
      "execution_count": 45,
      "outputs": [
        {
          "output_type": "execute_result",
          "data": {
            "text/plain": [
              "[<matplotlib.lines.Line2D at 0x7f498f4768f0>]"
            ]
          },
          "metadata": {},
          "execution_count": 45
        },
        {
          "output_type": "display_data",
          "data": {
            "text/plain": [
              "<Figure size 640x480 with 1 Axes>"
            ],
            "image/png": "[encoded data removed]"
          },
          "metadata": {}
        }
      ]
    },
    {
      "cell_type": "markdown",
      "source": [],
      "metadata": {
        "id": "fHEkO1j1uA1f"
      }
    },
    {
      "cell_type": "markdown",
      "source": [
        "# **Split the dataset into 3 Train/Test/Valid**"
      ],
      "metadata": {
        "id": "xPvI2x9GuA-y"
      }
    },
    {
      "cell_type": "code",
      "source": [
        "# build the dataset\n",
        "block_size = 3 # context length: how many characters do we take to predict the next one?\n",
        "\n",
        "def build_dataset(words):  \n",
        "  X, Y = [], []\n",
        "  for w in words:\n",
        "\n",
        "    #print(w)\n",
        "    context = [0] * block_size\n",
        "    for ch in w + '.':\n",
        "      ix = stoi[ch]\n",
        "      X.append(context)\n",
        "      Y.append(ix)\n",
        "      #print(''.join(itos[i] for i in context), '--->', itos[ix])\n",
        "      context = context[1:] + [ix] # crop and append\n",
        "\n",
        "  X = torch.tensor(X)\n",
        "  Y = torch.tensor(Y)\n",
        "  print(X.shape, Y.shape)\n",
        "  return X, Y\n",
        "\n",
        "import random\n",
        "random.seed(42)\n",
        "random.shuffle(words)\n",
        "n1 = int(0.8*len(words))\n",
        "n2 = int(0.9*len(words))\n",
        "\n",
        "Xtr, Ytr = build_dataset(words[:n1])\n",
        "Xdev, Ydev = build_dataset(words[n1:n2])\n",
        "Xte, Yte = build_dataset(words[n2:])"
      ],
      "metadata": {
        "id": "utphcGFObpcw",
        "colab": {
          "base_uri": "https://localhost:8080/"
        },
        "outputId": "b3383758-56f5-4703-a79c-3f8cb87053eb"
      },
      "execution_count": 46,
      "outputs": [
        {
          "output_type": "stream",
          "name": "stdout",
          "text": [
            "torch.Size([182625, 3]) torch.Size([182625])\n",
            "torch.Size([22655, 3]) torch.Size([22655])\n",
            "torch.Size([22866, 3]) torch.Size([22866])\n"
          ]
        }
      ]
    },
    {
      "cell_type": "code",
      "source": [
        "len(words)"
      ],
      "metadata": {
        "id": "Ny0KRYGUbpje",
        "colab": {
          "base_uri": "https://localhost:8080/"
        },
        "outputId": "059f08ca-098a-4721-a71c-a099ca824d07"
      },
      "execution_count": 47,
      "outputs": [
        {
          "output_type": "execute_result",
          "data": {
            "text/plain": [
              "32033"
            ]
          },
          "metadata": {},
          "execution_count": 47
        }
      ]
    },
    {
      "cell_type": "code",
      "source": [
        "n1, n2"
      ],
      "metadata": {
        "id": "aB0c3l7ObpoJ",
        "colab": {
          "base_uri": "https://localhost:8080/"
        },
        "outputId": "0ff8a72f-caad-470c-a0ef-1425f702017a"
      },
      "execution_count": 48,
      "outputs": [
        {
          "output_type": "execute_result",
          "data": {
            "text/plain": [
              "(25626, 28829)"
            ]
          },
          "metadata": {},
          "execution_count": 48
        }
      ]
    },
    {
      "cell_type": "code",
      "source": [
        "n2-n1"
      ],
      "metadata": {
        "id": "Y-RFqcnXbpyJ",
        "colab": {
          "base_uri": "https://localhost:8080/"
        },
        "outputId": "1cfac853-2089-44b2-a01b-a2f32869c665"
      },
      "execution_count": 49,
      "outputs": [
        {
          "output_type": "execute_result",
          "data": {
            "text/plain": [
              "3203"
            ]
          },
          "metadata": {},
          "execution_count": 49
        }
      ]
    },
    {
      "cell_type": "code",
      "source": [
        "Xtr.shape, Ytr.shape # dataset\n"
      ],
      "metadata": {
        "colab": {
          "base_uri": "https://localhost:8080/"
        },
        "id": "mBMvndsOvpfR",
        "outputId": "a7fc0345-18c9-42cd-99fc-65d0ff95228a"
      },
      "execution_count": 50,
      "outputs": [
        {
          "output_type": "execute_result",
          "data": {
            "text/plain": [
              "(torch.Size([182625, 3]), torch.Size([182625]))"
            ]
          },
          "metadata": {},
          "execution_count": 50
        }
      ]
    },
    {
      "cell_type": "markdown",
      "source": [
        "# **Increase the size of Neural Network **"
      ],
      "metadata": {
        "id": "uiq8yO3iwIa8"
      }
    },
    {
      "cell_type": "code",
      "source": [
        "g = torch.Generator().manual_seed(2147483647) # for reproducibility\n",
        "C = torch.randn((27, 10), generator=g)\n",
        "W1 = torch.randn((30, 200), generator=g)\n",
        "b1 = torch.randn(200, generator=g)\n",
        "W2 = torch.randn((200, 27), generator=g)\n",
        "b2 = torch.randn(27, generator=g)\n",
        "parameters = [C, W1, b1, W2, b2]"
      ],
      "metadata": {
        "id": "iv6xRTXRvpkX"
      },
      "execution_count": 51,
      "outputs": []
    },
    {
      "cell_type": "code",
      "source": [
        "sum(p.nelement() for p in parameters) # number of parameters in total\n"
      ],
      "metadata": {
        "colab": {
          "base_uri": "https://localhost:8080/"
        },
        "id": "D_XNgId8vpmJ",
        "outputId": "5efd8e15-f2e7-4ccb-a54f-d327dccd5d60"
      },
      "execution_count": 52,
      "outputs": [
        {
          "output_type": "execute_result",
          "data": {
            "text/plain": [
              "11897"
            ]
          },
          "metadata": {},
          "execution_count": 52
        }
      ]
    },
    {
      "cell_type": "code",
      "source": [
        "for p in parameters:\n",
        "  p.requires_grad = True"
      ],
      "metadata": {
        "id": "b5RQOEA5yO2i"
      },
      "execution_count": 53,
      "outputs": []
    },
    {
      "cell_type": "code",
      "source": [
        "lre = torch.linspace(-3, 0, 1000)\n",
        "lrs = 10**lre"
      ],
      "metadata": {
        "id": "_D2BpDBzyPD4"
      },
      "execution_count": 54,
      "outputs": []
    },
    {
      "cell_type": "code",
      "source": [
        "lri = []\n",
        "lossi = []\n",
        "stepi = []"
      ],
      "metadata": {
        "id": "nogZ-Jcgvpri"
      },
      "execution_count": 55,
      "outputs": []
    },
    {
      "cell_type": "code",
      "source": [
        "for i in range(200000):\n",
        "  \n",
        "  # minibatch construct\n",
        "  ix = torch.randint(0, Xtr.shape[0], (32,))\n",
        "  \n",
        "  # forward pass\n",
        "  emb = C[Xtr[ix]] # (32, 3, 10)\n",
        "  h = torch.tanh(emb.view(-1, 30) @ W1 + b1) # (32, 200)\n",
        "  logits = h @ W2 + b2 # (32, 27)\n",
        "  loss = F.cross_entropy(logits, Ytr[ix])\n",
        "  #print(loss.item())\n",
        "  \n",
        "  # backward pass\n",
        "  for p in parameters:\n",
        "    p.grad = None\n",
        "  loss.backward()\n",
        "  \n",
        "  # update\n",
        "  #lr = lrs[i]\n",
        "  lr = 0.1 if i < 100000 else 0.01\n",
        "  for p in parameters:\n",
        "    p.data += -lr * p.grad\n",
        "\n",
        "  # track stats\n",
        "  #lri.append(lre[i])\n",
        "  stepi.append(i)\n",
        "  lossi.append(loss.log10().item())\n",
        "\n",
        "#print(loss.item())"
      ],
      "metadata": {
        "id": "gBtL2_Yovpvo"
      },
      "execution_count": 56,
      "outputs": []
    },
    {
      "cell_type": "code",
      "source": [
        "plt.plot(stepi, lossi)\n"
      ],
      "metadata": {
        "colab": {
          "base_uri": "https://localhost:8080/",
          "height": 447
        },
        "id": "aKOEByMovpzC",
        "outputId": "07a53cbb-4daa-4751-c6a8-c4f30c4c38b0"
      },
      "execution_count": 57,
      "outputs": [
        {
          "output_type": "execute_result",
          "data": {
            "text/plain": [
              "[<matplotlib.lines.Line2D at 0x7f498dfdecb0>]"
            ]
          },
          "metadata": {},
          "execution_count": 57
        },
        {
          "output_type": "display_data",
          "data": {
            "text/plain": [
              "<Figure size 640x480 with 1 Axes>"
            ],
            "image/png": "[encoded data removed]"
          },
          "metadata": {}
        }
      ]
    },
    {
      "cell_type": "code",
      "source": [
        "emb = C[Xtr] # (32, 3, 2)\n",
        "h = torch.tanh(emb.view(-1, 30) @ W1 + b1) # (32, 100)\n",
        "logits = h @ W2 + b2 # (32, 27)\n",
        "loss = F.cross_entropy(logits, Ytr)\n",
        "loss"
      ],
      "metadata": {
        "colab": {
          "base_uri": "https://localhost:8080/"
        },
        "id": "eMobcZUzvp2j",
        "outputId": "d641f34f-a8fb-49ce-badc-6c12700e3e7b"
      },
      "execution_count": 58,
      "outputs": [
        {
          "output_type": "execute_result",
          "data": {
            "text/plain": [
              "tensor(2.1121, grad_fn=<NllLossBackward0>)"
            ]
          },
          "metadata": {},
          "execution_count": 58
        }
      ]
    },
    {
      "cell_type": "code",
      "source": [
        "emb = C[Xdev] # (32, 3, 2)\n",
        "h = torch.tanh(emb.view(-1, 30) @ W1 + b1) # (32, 100)\n",
        "logits = h @ W2 + b2 # (32, 27)\n",
        "loss = F.cross_entropy(logits, Ydev)\n",
        "loss"
      ],
      "metadata": {
        "colab": {
          "base_uri": "https://localhost:8080/"
        },
        "id": "S-MpNdfFvp5G",
        "outputId": "ce027067-d109-437d-b532-1178a03f8bd2"
      },
      "execution_count": 59,
      "outputs": [
        {
          "output_type": "execute_result",
          "data": {
            "text/plain": [
              "tensor(2.1547, grad_fn=<NllLossBackward0>)"
            ]
          },
          "metadata": {},
          "execution_count": 59
        }
      ]
    },
    {
      "cell_type": "code",
      "source": [
        "# visualize dimensions 0 and 1 of the embedding matrix C for all characters\n",
        "plt.figure(figsize=(8,8))\n",
        "plt.scatter(C[:,0].data, C[:,1].data, s=200)\n",
        "for i in range(C.shape[0]):\n",
        "    plt.text(C[i,0].item(), C[i,1].item(), itos[i], ha=\"center\", va=\"center\", color='white')\n",
        "plt.grid('minor')"
      ],
      "metadata": {
        "colab": {
          "base_uri": "https://localhost:8080/",
          "height": 676
        },
        "id": "JIQt4LY9vp9M",
        "outputId": "b8de3eeb-8569-4558-e9f9-38d521bdd42b"
      },
      "execution_count": 60,
      "outputs": [
        {
          "output_type": "display_data",
          "data": {
            "text/plain": [
              "<Figure size 800x800 with 1 Axes>"
            ],
            "image/png": "[encoded data removed]"
          },
          "metadata": {}
        }
      ]
    },
    {
      "cell_type": "markdown",
      "source": [
        "# **Sample of Model**"
      ],
      "metadata": {
        "id": "E3MvYydnzuiD"
      }
    },
    {
      "cell_type": "code",
      "source": [
        "g = torch.Generator().manual_seed(2147483647 + 10)\n",
        "\n",
        "for _ in range(20):\n",
        "    \n",
        "    out = []\n",
        "    context = [0] * block_size # initialize with all ...\n",
        "    while True:\n",
        "      emb = C[torch.tensor([context])] # (1,block_size,d)\n",
        "      h = torch.tanh(emb.view(1, -1) @ W1 + b1)\n",
        "      logits = h @ W2 + b2\n",
        "      probs = F.softmax(logits, dim=1)\n",
        "      ix = torch.multinomial(probs, num_samples=1, generator=g).item()\n",
        "      context = context[1:] + [ix]\n",
        "      out.append(ix)\n",
        "      if ix == 0:\n",
        "        break\n",
        "    \n",
        "    print(''.join(itos[i] for i in out))"
      ],
      "metadata": {
        "colab": {
          "base_uri": "https://localhost:8080/"
        },
        "id": "BGtQdfdXvqBp",
        "outputId": "77d2530f-8a57-42ff-f904-b05896ba7338"
      },
      "execution_count": 61,
      "outputs": [
        {
          "output_type": "stream",
          "name": "stdout",
          "text": [
            "mora.\n",
            "mayah.\n",
            "seel.\n",
            "nihahal.\n",
            "rethrelendraege.\n",
            "zeredor.\n",
            "illeyloren.\n",
            "eden.\n",
            "van.\n",
            "naraelyzimontel.\n",
            "noshibergiairiel.\n",
            "kindreelle.\n",
            "jose.\n",
            "cayu.\n",
            "zayven.\n",
            "jamell.\n",
            "eli.\n",
            "kaysh.\n",
            "ston.\n",
            "azhia.\n"
          ]
        }
      ]
    },
    {
      "cell_type": "code",
      "source": [],
      "metadata": {
        "id": "jZ7JP2yMvqEs"
      },
      "execution_count": null,
      "outputs": []
    },
    {
      "cell_type": "code",
      "source": [],
      "metadata": {
        "id": "a8c36hEcvqHf"
      },
      "execution_count": null,
      "outputs": []
    },
    {
      "cell_type": "code",
      "source": [],
      "metadata": {
        "id": "h0lwREqyvqNh"
      },
      "execution_count": null,
      "outputs": []
    },
    {
      "cell_type": "code",
      "source": [],
      "metadata": {
        "id": "CmL4oWs4vqQU"
      },
      "execution_count": null,
      "outputs": []
    },
    {
      "cell_type": "code",
      "source": [],
      "metadata": {
        "id": "UdBUjW5SvqX6"
      },
      "execution_count": null,
      "outputs": []
    },
    {
      "cell_type": "code",
      "source": [],
      "metadata": {
        "id": "VozmEH8evqdM"
      },
      "execution_count": null,
      "outputs": []
    },
    {
      "cell_type": "code",
      "source": [],
      "metadata": {
        "id": "WeyiX4klvqg7"
      },
      "execution_count": null,
      "outputs": []
    }
  ]
}